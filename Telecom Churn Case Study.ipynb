{
 "cells": [
  {
   "cell_type": "markdown",
   "metadata": {},
   "source": [
    "# Telecom Churn Case Study Group"
   ]
  },
  {
   "cell_type": "markdown",
   "metadata": {},
   "source": [
    "In the telecom industry, customers are able to choose from multiple service providers and actively switch from one operator to another. In this highly competitive market, the telecommunications industry experiences an average of 15-25% annual churn rate. Given the fact that it costs 5-10 times more to acquire a new customer than to retain an existing one, customer retention has now become even more important than customer acquisition. We have to build a model to predict the customers that are going to churn and also determine the important factors that influence the person going to churn."
   ]
  },
  {
   "cell_type": "markdown",
   "metadata": {},
   "source": [
    "### Loading Libraries"
   ]
  },
  {
   "cell_type": "code",
   "execution_count": 1,
   "metadata": {},
   "outputs": [],
   "source": [
    "# Suppressing Warnings\n",
    "import warnings\n",
    "warnings.filterwarnings('ignore')"
   ]
  },
  {
   "cell_type": "code",
   "execution_count": 2,
   "metadata": {},
   "outputs": [],
   "source": [
    "# Importing Libraries\n",
    "import pandas as pd, numpy as np, seaborn as sns, matplotlib.pyplot as plt"
   ]
  },
  {
   "cell_type": "markdown",
   "metadata": {},
   "source": [
    "## Step 1. Reading & Understanding Data"
   ]
  },
  {
   "cell_type": "code",
   "execution_count": 3,
   "metadata": {},
   "outputs": [
    {
     "data": {
      "text/html": [
       "<div>\n",
       "<style scoped>\n",
       "    .dataframe tbody tr th:only-of-type {\n",
       "        vertical-align: middle;\n",
       "    }\n",
       "\n",
       "    .dataframe tbody tr th {\n",
       "        vertical-align: top;\n",
       "    }\n",
       "\n",
       "    .dataframe thead th {\n",
       "        text-align: right;\n",
       "    }\n",
       "</style>\n",
       "<table border=\"1\" class=\"dataframe\">\n",
       "  <thead>\n",
       "    <tr style=\"text-align: right;\">\n",
       "      <th></th>\n",
       "      <th>mobile_number</th>\n",
       "      <th>circle_id</th>\n",
       "      <th>loc_og_t2o_mou</th>\n",
       "      <th>std_og_t2o_mou</th>\n",
       "      <th>loc_ic_t2o_mou</th>\n",
       "      <th>last_date_of_month_6</th>\n",
       "      <th>last_date_of_month_7</th>\n",
       "      <th>last_date_of_month_8</th>\n",
       "      <th>last_date_of_month_9</th>\n",
       "      <th>arpu_6</th>\n",
       "      <th>...</th>\n",
       "      <th>sachet_3g_9</th>\n",
       "      <th>fb_user_6</th>\n",
       "      <th>fb_user_7</th>\n",
       "      <th>fb_user_8</th>\n",
       "      <th>fb_user_9</th>\n",
       "      <th>aon</th>\n",
       "      <th>aug_vbc_3g</th>\n",
       "      <th>jul_vbc_3g</th>\n",
       "      <th>jun_vbc_3g</th>\n",
       "      <th>sep_vbc_3g</th>\n",
       "    </tr>\n",
       "  </thead>\n",
       "  <tbody>\n",
       "    <tr>\n",
       "      <th>0</th>\n",
       "      <td>7000842753</td>\n",
       "      <td>109</td>\n",
       "      <td>0.0</td>\n",
       "      <td>0.0</td>\n",
       "      <td>0.0</td>\n",
       "      <td>6/30/2014</td>\n",
       "      <td>7/31/2014</td>\n",
       "      <td>8/31/2014</td>\n",
       "      <td>9/30/2014</td>\n",
       "      <td>197.385</td>\n",
       "      <td>...</td>\n",
       "      <td>0</td>\n",
       "      <td>1.0</td>\n",
       "      <td>1.0</td>\n",
       "      <td>1.0</td>\n",
       "      <td>NaN</td>\n",
       "      <td>968</td>\n",
       "      <td>30.4</td>\n",
       "      <td>0.0</td>\n",
       "      <td>101.20</td>\n",
       "      <td>3.58</td>\n",
       "    </tr>\n",
       "    <tr>\n",
       "      <th>1</th>\n",
       "      <td>7001865778</td>\n",
       "      <td>109</td>\n",
       "      <td>0.0</td>\n",
       "      <td>0.0</td>\n",
       "      <td>0.0</td>\n",
       "      <td>6/30/2014</td>\n",
       "      <td>7/31/2014</td>\n",
       "      <td>8/31/2014</td>\n",
       "      <td>9/30/2014</td>\n",
       "      <td>34.047</td>\n",
       "      <td>...</td>\n",
       "      <td>0</td>\n",
       "      <td>NaN</td>\n",
       "      <td>1.0</td>\n",
       "      <td>1.0</td>\n",
       "      <td>NaN</td>\n",
       "      <td>1006</td>\n",
       "      <td>0.0</td>\n",
       "      <td>0.0</td>\n",
       "      <td>0.00</td>\n",
       "      <td>0.00</td>\n",
       "    </tr>\n",
       "    <tr>\n",
       "      <th>2</th>\n",
       "      <td>7001625959</td>\n",
       "      <td>109</td>\n",
       "      <td>0.0</td>\n",
       "      <td>0.0</td>\n",
       "      <td>0.0</td>\n",
       "      <td>6/30/2014</td>\n",
       "      <td>7/31/2014</td>\n",
       "      <td>8/31/2014</td>\n",
       "      <td>9/30/2014</td>\n",
       "      <td>167.690</td>\n",
       "      <td>...</td>\n",
       "      <td>0</td>\n",
       "      <td>NaN</td>\n",
       "      <td>NaN</td>\n",
       "      <td>NaN</td>\n",
       "      <td>1.0</td>\n",
       "      <td>1103</td>\n",
       "      <td>0.0</td>\n",
       "      <td>0.0</td>\n",
       "      <td>4.17</td>\n",
       "      <td>0.00</td>\n",
       "    </tr>\n",
       "    <tr>\n",
       "      <th>3</th>\n",
       "      <td>7001204172</td>\n",
       "      <td>109</td>\n",
       "      <td>0.0</td>\n",
       "      <td>0.0</td>\n",
       "      <td>0.0</td>\n",
       "      <td>6/30/2014</td>\n",
       "      <td>7/31/2014</td>\n",
       "      <td>8/31/2014</td>\n",
       "      <td>9/30/2014</td>\n",
       "      <td>221.338</td>\n",
       "      <td>...</td>\n",
       "      <td>0</td>\n",
       "      <td>NaN</td>\n",
       "      <td>NaN</td>\n",
       "      <td>NaN</td>\n",
       "      <td>NaN</td>\n",
       "      <td>2491</td>\n",
       "      <td>0.0</td>\n",
       "      <td>0.0</td>\n",
       "      <td>0.00</td>\n",
       "      <td>0.00</td>\n",
       "    </tr>\n",
       "    <tr>\n",
       "      <th>4</th>\n",
       "      <td>7000142493</td>\n",
       "      <td>109</td>\n",
       "      <td>0.0</td>\n",
       "      <td>0.0</td>\n",
       "      <td>0.0</td>\n",
       "      <td>6/30/2014</td>\n",
       "      <td>7/31/2014</td>\n",
       "      <td>8/31/2014</td>\n",
       "      <td>9/30/2014</td>\n",
       "      <td>261.636</td>\n",
       "      <td>...</td>\n",
       "      <td>0</td>\n",
       "      <td>0.0</td>\n",
       "      <td>NaN</td>\n",
       "      <td>NaN</td>\n",
       "      <td>NaN</td>\n",
       "      <td>1526</td>\n",
       "      <td>0.0</td>\n",
       "      <td>0.0</td>\n",
       "      <td>0.00</td>\n",
       "      <td>0.00</td>\n",
       "    </tr>\n",
       "  </tbody>\n",
       "</table>\n",
       "<p>5 rows × 226 columns</p>\n",
       "</div>"
      ],
      "text/plain": [
       "   mobile_number  circle_id  loc_og_t2o_mou  std_og_t2o_mou  loc_ic_t2o_mou  \\\n",
       "0     7000842753        109             0.0             0.0             0.0   \n",
       "1     7001865778        109             0.0             0.0             0.0   \n",
       "2     7001625959        109             0.0             0.0             0.0   \n",
       "3     7001204172        109             0.0             0.0             0.0   \n",
       "4     7000142493        109             0.0             0.0             0.0   \n",
       "\n",
       "  last_date_of_month_6 last_date_of_month_7 last_date_of_month_8  \\\n",
       "0            6/30/2014            7/31/2014            8/31/2014   \n",
       "1            6/30/2014            7/31/2014            8/31/2014   \n",
       "2            6/30/2014            7/31/2014            8/31/2014   \n",
       "3            6/30/2014            7/31/2014            8/31/2014   \n",
       "4            6/30/2014            7/31/2014            8/31/2014   \n",
       "\n",
       "  last_date_of_month_9   arpu_6  ...  sachet_3g_9  fb_user_6  fb_user_7  \\\n",
       "0            9/30/2014  197.385  ...            0        1.0        1.0   \n",
       "1            9/30/2014   34.047  ...            0        NaN        1.0   \n",
       "2            9/30/2014  167.690  ...            0        NaN        NaN   \n",
       "3            9/30/2014  221.338  ...            0        NaN        NaN   \n",
       "4            9/30/2014  261.636  ...            0        0.0        NaN   \n",
       "\n",
       "   fb_user_8  fb_user_9   aon  aug_vbc_3g  jul_vbc_3g  jun_vbc_3g  sep_vbc_3g  \n",
       "0        1.0        NaN   968        30.4         0.0      101.20        3.58  \n",
       "1        1.0        NaN  1006         0.0         0.0        0.00        0.00  \n",
       "2        NaN        1.0  1103         0.0         0.0        4.17        0.00  \n",
       "3        NaN        NaN  2491         0.0         0.0        0.00        0.00  \n",
       "4        NaN        NaN  1526         0.0         0.0        0.00        0.00  \n",
       "\n",
       "[5 rows x 226 columns]"
      ]
     },
     "execution_count": 3,
     "metadata": {},
     "output_type": "execute_result"
    }
   ],
   "source": [
    "# Importing the dataset\n",
    "telecom = pd.read_csv('telecom_churn_data.csv')\n",
    "telecom.head()"
   ]
  },
  {
   "cell_type": "code",
   "execution_count": 4,
   "metadata": {},
   "outputs": [
    {
     "data": {
      "text/plain": [
       "(99999, 226)"
      ]
     },
     "execution_count": 4,
     "metadata": {},
     "output_type": "execute_result"
    }
   ],
   "source": [
    "# Let's check the dimensions of the dataframe\n",
    "telecom.shape"
   ]
  },
  {
   "cell_type": "code",
   "execution_count": 5,
   "metadata": {},
   "outputs": [
    {
     "data": {
      "text/html": [
       "<div>\n",
       "<style scoped>\n",
       "    .dataframe tbody tr th:only-of-type {\n",
       "        vertical-align: middle;\n",
       "    }\n",
       "\n",
       "    .dataframe tbody tr th {\n",
       "        vertical-align: top;\n",
       "    }\n",
       "\n",
       "    .dataframe thead th {\n",
       "        text-align: right;\n",
       "    }\n",
       "</style>\n",
       "<table border=\"1\" class=\"dataframe\">\n",
       "  <thead>\n",
       "    <tr style=\"text-align: right;\">\n",
       "      <th></th>\n",
       "      <th>mobile_number</th>\n",
       "      <th>circle_id</th>\n",
       "      <th>loc_og_t2o_mou</th>\n",
       "      <th>std_og_t2o_mou</th>\n",
       "      <th>loc_ic_t2o_mou</th>\n",
       "      <th>arpu_6</th>\n",
       "      <th>arpu_7</th>\n",
       "      <th>arpu_8</th>\n",
       "      <th>arpu_9</th>\n",
       "      <th>onnet_mou_6</th>\n",
       "      <th>...</th>\n",
       "      <th>sachet_3g_9</th>\n",
       "      <th>fb_user_6</th>\n",
       "      <th>fb_user_7</th>\n",
       "      <th>fb_user_8</th>\n",
       "      <th>fb_user_9</th>\n",
       "      <th>aon</th>\n",
       "      <th>aug_vbc_3g</th>\n",
       "      <th>jul_vbc_3g</th>\n",
       "      <th>jun_vbc_3g</th>\n",
       "      <th>sep_vbc_3g</th>\n",
       "    </tr>\n",
       "  </thead>\n",
       "  <tbody>\n",
       "    <tr>\n",
       "      <th>count</th>\n",
       "      <td>9.999900e+04</td>\n",
       "      <td>99999.0</td>\n",
       "      <td>98981.0</td>\n",
       "      <td>98981.0</td>\n",
       "      <td>98981.0</td>\n",
       "      <td>99999.000000</td>\n",
       "      <td>99999.000000</td>\n",
       "      <td>99999.000000</td>\n",
       "      <td>99999.000000</td>\n",
       "      <td>96062.000000</td>\n",
       "      <td>...</td>\n",
       "      <td>99999.000000</td>\n",
       "      <td>25153.000000</td>\n",
       "      <td>25571.000000</td>\n",
       "      <td>26339.000000</td>\n",
       "      <td>25922.000000</td>\n",
       "      <td>99999.000000</td>\n",
       "      <td>99999.000000</td>\n",
       "      <td>99999.000000</td>\n",
       "      <td>99999.000000</td>\n",
       "      <td>99999.000000</td>\n",
       "    </tr>\n",
       "    <tr>\n",
       "      <th>mean</th>\n",
       "      <td>7.001207e+09</td>\n",
       "      <td>109.0</td>\n",
       "      <td>0.0</td>\n",
       "      <td>0.0</td>\n",
       "      <td>0.0</td>\n",
       "      <td>282.987358</td>\n",
       "      <td>278.536648</td>\n",
       "      <td>279.154731</td>\n",
       "      <td>261.645069</td>\n",
       "      <td>132.395875</td>\n",
       "      <td>...</td>\n",
       "      <td>0.084581</td>\n",
       "      <td>0.914404</td>\n",
       "      <td>0.908764</td>\n",
       "      <td>0.890808</td>\n",
       "      <td>0.860968</td>\n",
       "      <td>1219.854749</td>\n",
       "      <td>68.170248</td>\n",
       "      <td>66.839062</td>\n",
       "      <td>60.021204</td>\n",
       "      <td>3.299373</td>\n",
       "    </tr>\n",
       "    <tr>\n",
       "      <th>std</th>\n",
       "      <td>6.956694e+05</td>\n",
       "      <td>0.0</td>\n",
       "      <td>0.0</td>\n",
       "      <td>0.0</td>\n",
       "      <td>0.0</td>\n",
       "      <td>328.439770</td>\n",
       "      <td>338.156291</td>\n",
       "      <td>344.474791</td>\n",
       "      <td>341.998630</td>\n",
       "      <td>297.207406</td>\n",
       "      <td>...</td>\n",
       "      <td>0.650457</td>\n",
       "      <td>0.279772</td>\n",
       "      <td>0.287950</td>\n",
       "      <td>0.311885</td>\n",
       "      <td>0.345987</td>\n",
       "      <td>954.733842</td>\n",
       "      <td>267.580450</td>\n",
       "      <td>271.201856</td>\n",
       "      <td>253.938223</td>\n",
       "      <td>32.408353</td>\n",
       "    </tr>\n",
       "    <tr>\n",
       "      <th>min</th>\n",
       "      <td>7.000000e+09</td>\n",
       "      <td>109.0</td>\n",
       "      <td>0.0</td>\n",
       "      <td>0.0</td>\n",
       "      <td>0.0</td>\n",
       "      <td>-2258.709000</td>\n",
       "      <td>-2014.045000</td>\n",
       "      <td>-945.808000</td>\n",
       "      <td>-1899.505000</td>\n",
       "      <td>0.000000</td>\n",
       "      <td>...</td>\n",
       "      <td>0.000000</td>\n",
       "      <td>0.000000</td>\n",
       "      <td>0.000000</td>\n",
       "      <td>0.000000</td>\n",
       "      <td>0.000000</td>\n",
       "      <td>180.000000</td>\n",
       "      <td>0.000000</td>\n",
       "      <td>0.000000</td>\n",
       "      <td>0.000000</td>\n",
       "      <td>0.000000</td>\n",
       "    </tr>\n",
       "    <tr>\n",
       "      <th>25%</th>\n",
       "      <td>7.000606e+09</td>\n",
       "      <td>109.0</td>\n",
       "      <td>0.0</td>\n",
       "      <td>0.0</td>\n",
       "      <td>0.0</td>\n",
       "      <td>93.411500</td>\n",
       "      <td>86.980500</td>\n",
       "      <td>84.126000</td>\n",
       "      <td>62.685000</td>\n",
       "      <td>7.380000</td>\n",
       "      <td>...</td>\n",
       "      <td>0.000000</td>\n",
       "      <td>1.000000</td>\n",
       "      <td>1.000000</td>\n",
       "      <td>1.000000</td>\n",
       "      <td>1.000000</td>\n",
       "      <td>467.000000</td>\n",
       "      <td>0.000000</td>\n",
       "      <td>0.000000</td>\n",
       "      <td>0.000000</td>\n",
       "      <td>0.000000</td>\n",
       "    </tr>\n",
       "    <tr>\n",
       "      <th>50%</th>\n",
       "      <td>7.001205e+09</td>\n",
       "      <td>109.0</td>\n",
       "      <td>0.0</td>\n",
       "      <td>0.0</td>\n",
       "      <td>0.0</td>\n",
       "      <td>197.704000</td>\n",
       "      <td>191.640000</td>\n",
       "      <td>192.080000</td>\n",
       "      <td>176.849000</td>\n",
       "      <td>34.310000</td>\n",
       "      <td>...</td>\n",
       "      <td>0.000000</td>\n",
       "      <td>1.000000</td>\n",
       "      <td>1.000000</td>\n",
       "      <td>1.000000</td>\n",
       "      <td>1.000000</td>\n",
       "      <td>863.000000</td>\n",
       "      <td>0.000000</td>\n",
       "      <td>0.000000</td>\n",
       "      <td>0.000000</td>\n",
       "      <td>0.000000</td>\n",
       "    </tr>\n",
       "    <tr>\n",
       "      <th>75%</th>\n",
       "      <td>7.001812e+09</td>\n",
       "      <td>109.0</td>\n",
       "      <td>0.0</td>\n",
       "      <td>0.0</td>\n",
       "      <td>0.0</td>\n",
       "      <td>371.060000</td>\n",
       "      <td>365.344500</td>\n",
       "      <td>369.370500</td>\n",
       "      <td>353.466500</td>\n",
       "      <td>118.740000</td>\n",
       "      <td>...</td>\n",
       "      <td>0.000000</td>\n",
       "      <td>1.000000</td>\n",
       "      <td>1.000000</td>\n",
       "      <td>1.000000</td>\n",
       "      <td>1.000000</td>\n",
       "      <td>1807.500000</td>\n",
       "      <td>0.000000</td>\n",
       "      <td>0.000000</td>\n",
       "      <td>0.000000</td>\n",
       "      <td>0.000000</td>\n",
       "    </tr>\n",
       "    <tr>\n",
       "      <th>max</th>\n",
       "      <td>7.002411e+09</td>\n",
       "      <td>109.0</td>\n",
       "      <td>0.0</td>\n",
       "      <td>0.0</td>\n",
       "      <td>0.0</td>\n",
       "      <td>27731.088000</td>\n",
       "      <td>35145.834000</td>\n",
       "      <td>33543.624000</td>\n",
       "      <td>38805.617000</td>\n",
       "      <td>7376.710000</td>\n",
       "      <td>...</td>\n",
       "      <td>49.000000</td>\n",
       "      <td>1.000000</td>\n",
       "      <td>1.000000</td>\n",
       "      <td>1.000000</td>\n",
       "      <td>1.000000</td>\n",
       "      <td>4337.000000</td>\n",
       "      <td>12916.220000</td>\n",
       "      <td>9165.600000</td>\n",
       "      <td>11166.210000</td>\n",
       "      <td>2618.570000</td>\n",
       "    </tr>\n",
       "  </tbody>\n",
       "</table>\n",
       "<p>8 rows × 214 columns</p>\n",
       "</div>"
      ],
      "text/plain": [
       "       mobile_number  circle_id  loc_og_t2o_mou  std_og_t2o_mou  \\\n",
       "count   9.999900e+04    99999.0         98981.0         98981.0   \n",
       "mean    7.001207e+09      109.0             0.0             0.0   \n",
       "std     6.956694e+05        0.0             0.0             0.0   \n",
       "min     7.000000e+09      109.0             0.0             0.0   \n",
       "25%     7.000606e+09      109.0             0.0             0.0   \n",
       "50%     7.001205e+09      109.0             0.0             0.0   \n",
       "75%     7.001812e+09      109.0             0.0             0.0   \n",
       "max     7.002411e+09      109.0             0.0             0.0   \n",
       "\n",
       "       loc_ic_t2o_mou        arpu_6        arpu_7        arpu_8        arpu_9  \\\n",
       "count         98981.0  99999.000000  99999.000000  99999.000000  99999.000000   \n",
       "mean              0.0    282.987358    278.536648    279.154731    261.645069   \n",
       "std               0.0    328.439770    338.156291    344.474791    341.998630   \n",
       "min               0.0  -2258.709000  -2014.045000   -945.808000  -1899.505000   \n",
       "25%               0.0     93.411500     86.980500     84.126000     62.685000   \n",
       "50%               0.0    197.704000    191.640000    192.080000    176.849000   \n",
       "75%               0.0    371.060000    365.344500    369.370500    353.466500   \n",
       "max               0.0  27731.088000  35145.834000  33543.624000  38805.617000   \n",
       "\n",
       "        onnet_mou_6  ...   sachet_3g_9     fb_user_6     fb_user_7  \\\n",
       "count  96062.000000  ...  99999.000000  25153.000000  25571.000000   \n",
       "mean     132.395875  ...      0.084581      0.914404      0.908764   \n",
       "std      297.207406  ...      0.650457      0.279772      0.287950   \n",
       "min        0.000000  ...      0.000000      0.000000      0.000000   \n",
       "25%        7.380000  ...      0.000000      1.000000      1.000000   \n",
       "50%       34.310000  ...      0.000000      1.000000      1.000000   \n",
       "75%      118.740000  ...      0.000000      1.000000      1.000000   \n",
       "max     7376.710000  ...     49.000000      1.000000      1.000000   \n",
       "\n",
       "          fb_user_8     fb_user_9           aon    aug_vbc_3g    jul_vbc_3g  \\\n",
       "count  26339.000000  25922.000000  99999.000000  99999.000000  99999.000000   \n",
       "mean       0.890808      0.860968   1219.854749     68.170248     66.839062   \n",
       "std        0.311885      0.345987    954.733842    267.580450    271.201856   \n",
       "min        0.000000      0.000000    180.000000      0.000000      0.000000   \n",
       "25%        1.000000      1.000000    467.000000      0.000000      0.000000   \n",
       "50%        1.000000      1.000000    863.000000      0.000000      0.000000   \n",
       "75%        1.000000      1.000000   1807.500000      0.000000      0.000000   \n",
       "max        1.000000      1.000000   4337.000000  12916.220000   9165.600000   \n",
       "\n",
       "         jun_vbc_3g    sep_vbc_3g  \n",
       "count  99999.000000  99999.000000  \n",
       "mean      60.021204      3.299373  \n",
       "std      253.938223     32.408353  \n",
       "min        0.000000      0.000000  \n",
       "25%        0.000000      0.000000  \n",
       "50%        0.000000      0.000000  \n",
       "75%        0.000000      0.000000  \n",
       "max    11166.210000   2618.570000  \n",
       "\n",
       "[8 rows x 214 columns]"
      ]
     },
     "execution_count": 5,
     "metadata": {},
     "output_type": "execute_result"
    }
   ],
   "source": [
    "# let's look at the statistical aspects of the dataframe\n",
    "telecom.describe()"
   ]
  },
  {
   "cell_type": "code",
   "execution_count": 6,
   "metadata": {},
   "outputs": [
    {
     "name": "stdout",
     "output_type": "stream",
     "text": [
      "<class 'pandas.core.frame.DataFrame'>\n",
      "RangeIndex: 99999 entries, 0 to 99998\n",
      "Columns: 226 entries, mobile_number to sep_vbc_3g\n",
      "dtypes: float64(179), int64(35), object(12)\n",
      "memory usage: 172.4+ MB\n"
     ]
    }
   ],
   "source": [
    "# Let's see the type of each column\n",
    "telecom.info()"
   ]
  },
  {
   "cell_type": "code",
   "execution_count": 7,
   "metadata": {},
   "outputs": [
    {
     "name": "stdout",
     "output_type": "stream",
     "text": [
      "#ID cols: 2\n",
      "#Date cols:12\n",
      "#Numeric cols:204\n",
      "#Category cols:8\n",
      "True\n"
     ]
    }
   ],
   "source": [
    "# create column name list by types of columns\n",
    "id_cols = ['mobile_number', 'circle_id']\n",
    "\n",
    "date_cols = ['last_date_of_month_6','last_date_of_month_7','last_date_of_month_8','last_date_of_month_9','date_of_last_rech_6',\n",
    "             'date_of_last_rech_7',\n",
    "             'date_of_last_rech_8',\n",
    "             'date_of_last_rech_9',\n",
    "             'date_of_last_rech_data_6',\n",
    "             'date_of_last_rech_data_7',\n",
    "             'date_of_last_rech_data_8',\n",
    "             'date_of_last_rech_data_9'\n",
    "            ]\n",
    "\n",
    "cat_cols =  ['night_pck_user_6',\n",
    "             'night_pck_user_7',\n",
    "             'night_pck_user_8',\n",
    "             'night_pck_user_9',\n",
    "             'fb_user_6',\n",
    "             'fb_user_7',\n",
    "             'fb_user_8',\n",
    "             'fb_user_9'\n",
    "            ]\n",
    "\n",
    "num_cols = [column for column in telecom.columns if column not in id_cols + date_cols + cat_cols]\n",
    "\n",
    "# print the number of columns in each list\n",
    "print(\"#ID cols: %d\\n#Date cols:%d\\n#Numeric cols:%d\\n#Category cols:%d\" % (len(id_cols), len(date_cols), len(num_cols), len(cat_cols)))\n",
    "\n",
    "# check if we have missed any column or not\n",
    "print(len(id_cols) + len(date_cols) + len(num_cols) + len(cat_cols) == telecom.shape[1])"
   ]
  },
  {
   "cell_type": "markdown",
   "metadata": {},
   "source": [
    "# Step 2. Data Cleaning"
   ]
  },
  {
   "cell_type": "markdown",
   "metadata": {},
   "source": [
    "## A) Handling Missing Values"
   ]
  },
  {
   "cell_type": "code",
   "execution_count": 8,
   "metadata": {
    "scrolled": true
   },
   "outputs": [
    {
     "name": "stdout",
     "output_type": "stream",
     "text": [
      "mobile_number     0.00000\n",
      "circle_id         0.00000\n",
      "loc_og_t2o_mou    1.01801\n",
      "std_og_t2o_mou    1.01801\n",
      "loc_ic_t2o_mou    1.01801\n",
      "                   ...   \n",
      "aon               0.00000\n",
      "aug_vbc_3g        0.00000\n",
      "jul_vbc_3g        0.00000\n",
      "jun_vbc_3g        0.00000\n",
      "sep_vbc_3g        0.00000\n",
      "Length: 226, dtype: float64\n"
     ]
    }
   ],
   "source": [
    "# Check the percent of missing values in all the columns\n",
    "print(telecom.isnull().sum()*100/telecom.shape[0])"
   ]
  },
  {
   "cell_type": "markdown",
   "metadata": {},
   "source": [
    "### Subtask A.1 : Imputing with zero where we are very sure that a missing is a zero."
   ]
  },
  {
   "cell_type": "markdown",
   "metadata": {},
   "source": [
    "In the recharge variables where minumum value is 1, we can impute missing values with zeroes since it means customer didn't recharge their numbere that month."
   ]
  },
  {
   "cell_type": "code",
   "execution_count": 9,
   "metadata": {},
   "outputs": [],
   "source": [
    "# create a list of recharge columns where we will impute missing values with zeroes\n",
    "zero_impute = ['total_rech_data_6', 'total_rech_data_7', 'total_rech_data_8', 'total_rech_data_9',\n",
    "        'av_rech_amt_data_6', 'av_rech_amt_data_7', 'av_rech_amt_data_8', 'av_rech_amt_data_9',\n",
    "        'max_rech_data_6', 'max_rech_data_7', 'max_rech_data_8', 'max_rech_data_9']"
   ]
  },
  {
   "cell_type": "code",
   "execution_count": 10,
   "metadata": {},
   "outputs": [],
   "source": [
    "# impute missing values with 0\n",
    "telecom[zero_impute] = telecom[zero_impute].apply(lambda x: x.fillna(0))"
   ]
  },
  {
   "cell_type": "code",
   "execution_count": 11,
   "metadata": {},
   "outputs": [
    {
     "name": "stdout",
     "output_type": "stream",
     "text": [
      "Missing value ratio:\n",
      "\n",
      "total_rech_data_6     0.0\n",
      "total_rech_data_7     0.0\n",
      "total_rech_data_8     0.0\n",
      "total_rech_data_9     0.0\n",
      "av_rech_amt_data_6    0.0\n",
      "av_rech_amt_data_7    0.0\n",
      "av_rech_amt_data_8    0.0\n",
      "av_rech_amt_data_9    0.0\n",
      "max_rech_data_6       0.0\n",
      "max_rech_data_7       0.0\n",
      "max_rech_data_8       0.0\n",
      "max_rech_data_9       0.0\n",
      "dtype: float64\n"
     ]
    }
   ],
   "source": [
    "# now, let's make sure values are imputed correctly\n",
    "print(\"Missing value ratio:\\n\")\n",
    "print(telecom[zero_impute].isnull().sum()*100/telecom.shape[1])\n"
   ]
  },
  {
   "cell_type": "code",
   "execution_count": 12,
   "metadata": {
    "scrolled": true
   },
   "outputs": [
    {
     "data": {
      "text/plain": [
       "(99999, 226)"
      ]
     },
     "execution_count": 12,
     "metadata": {},
     "output_type": "execute_result"
    }
   ],
   "source": [
    "telecom.shape"
   ]
  },
  {
   "cell_type": "code",
   "execution_count": 13,
   "metadata": {},
   "outputs": [],
   "source": [
    "# Dropping ID and date columns\n",
    "telecom = telecom.drop(id_cols + date_cols, axis=1)"
   ]
  },
  {
   "cell_type": "markdown",
   "metadata": {},
   "source": [
    "### Subtask A.2 : Handaling Categorical Column"
   ]
  },
  {
   "cell_type": "markdown",
   "metadata": {},
   "source": [
    "We will replace missing values in the categorical values with '-1' where '-1' will be a new category."
   ]
  },
  {
   "cell_type": "code",
   "execution_count": 14,
   "metadata": {},
   "outputs": [],
   "source": [
    "# replace missing values with '-1' in categorical columns\n",
    "\n",
    "cat_cols =  ['night_pck_user_6','night_pck_user_7','night_pck_user_8','night_pck_user_9','fb_user_6','fb_user_7','fb_user_8','fb_user_9']\n",
    "telecom[cat_cols] = telecom[cat_cols].apply(lambda x: x.fillna(-1))"
   ]
  },
  {
   "cell_type": "code",
   "execution_count": 15,
   "metadata": {},
   "outputs": [
    {
     "name": "stdout",
     "output_type": "stream",
     "text": [
      "Missing value ratio:\n",
      "\n",
      "night_pck_user_6    0.0\n",
      "night_pck_user_7    0.0\n",
      "night_pck_user_8    0.0\n",
      "night_pck_user_9    0.0\n",
      "fb_user_6           0.0\n",
      "fb_user_7           0.0\n",
      "fb_user_8           0.0\n",
      "fb_user_9           0.0\n",
      "dtype: float64\n"
     ]
    }
   ],
   "source": [
    "# missing value ratio\n",
    "print(\"Missing value ratio:\\n\")\n",
    "print(telecom[cat_cols].isnull().sum()*100/telecom.shape[0])"
   ]
  },
  {
   "cell_type": "markdown",
   "metadata": {},
   "source": [
    "### Subtask A.3 :Remove columns with high missing percentage"
   ]
  },
  {
   "cell_type": "code",
   "execution_count": 16,
   "metadata": {
    "scrolled": true
   },
   "outputs": [],
   "source": [
    "cols = telecom.columns[telecom.isnull().mean()>0.7]\n",
    "telecom = telecom.drop(cols, axis=1)"
   ]
  },
  {
   "cell_type": "code",
   "execution_count": 17,
   "metadata": {},
   "outputs": [
    {
     "data": {
      "text/plain": [
       "(99999, 196)"
      ]
     },
     "execution_count": 17,
     "metadata": {},
     "output_type": "execute_result"
    }
   ],
   "source": [
    "telecom.shape"
   ]
  },
  {
   "cell_type": "markdown",
   "metadata": {},
   "source": [
    "### Subtask A.4 : Imputing using Sklearn Simple Imputer"
   ]
  },
  {
   "cell_type": "code",
   "execution_count": 18,
   "metadata": {},
   "outputs": [],
   "source": [
    "from sklearn.impute import SimpleImputer \n",
    "imputer=SimpleImputer(missing_values=np.nan,strategy='mean')\n",
    "imputer=imputer.fit(telecom)\n",
    "telecom_imputed=imputer.transform(telecom)"
   ]
  },
  {
   "cell_type": "code",
   "execution_count": 19,
   "metadata": {},
   "outputs": [
    {
     "name": "stdout",
     "output_type": "stream",
     "text": [
      "loc_og_t2o_mou    0.0\n",
      "std_og_t2o_mou    0.0\n",
      "loc_ic_t2o_mou    0.0\n",
      "arpu_6            0.0\n",
      "arpu_7            0.0\n",
      "                 ... \n",
      "aon               0.0\n",
      "aug_vbc_3g        0.0\n",
      "jul_vbc_3g        0.0\n",
      "jun_vbc_3g        0.0\n",
      "sep_vbc_3g        0.0\n",
      "Length: 196, dtype: float64\n"
     ]
    }
   ],
   "source": [
    "# convert imputed numpy array to pandas dataframe\n",
    "telecom = pd.DataFrame(telecom_imputed, columns=telecom.columns)\n",
    "print(telecom.isnull().sum()*100/telecom.shape[0])"
   ]
  },
  {
   "cell_type": "code",
   "execution_count": 20,
   "metadata": {},
   "outputs": [
    {
     "data": {
      "text/plain": [
       "(99999, 196)"
      ]
     },
     "execution_count": 20,
     "metadata": {},
     "output_type": "execute_result"
    }
   ],
   "source": [
    "telecom.shape"
   ]
  },
  {
   "cell_type": "markdown",
   "metadata": {},
   "source": [
    "## B) Filter High-Value Customers"
   ]
  },
  {
   "cell_type": "code",
   "execution_count": 21,
   "metadata": {},
   "outputs": [],
   "source": [
    "# calculate the total data recharge amount for June and July \n",
    "telecom['total_data_rech_6'] = telecom.total_rech_data_6 * telecom.av_rech_amt_data_6\n",
    "telecom['total_data_rech_7'] = telecom.total_rech_data_7 * telecom.av_rech_amt_data_7"
   ]
  },
  {
   "cell_type": "code",
   "execution_count": 22,
   "metadata": {},
   "outputs": [],
   "source": [
    "# calculate total recharge amount for June and July \n",
    "telecom['amt_data_6'] = telecom.total_rech_amt_6 + telecom.total_data_rech_6\n",
    "telecom['amt_data_7'] = telecom.total_rech_amt_7 + telecom.total_data_rech_7"
   ]
  },
  {
   "cell_type": "code",
   "execution_count": 23,
   "metadata": {},
   "outputs": [],
   "source": [
    "# calculate average recharge done by customer in June and July\n",
    "telecom['av_amt_data_6_7'] = (telecom.amt_data_6 + telecom.amt_data_7)/2"
   ]
  },
  {
   "cell_type": "code",
   "execution_count": 24,
   "metadata": {},
   "outputs": [
    {
     "name": "stdout",
     "output_type": "stream",
     "text": [
      "Recharge amount at 70th percentile: 478.0\n"
     ]
    }
   ],
   "source": [
    "# look at the 70th percentile recharge amount\n",
    "print(\"Recharge amount at 70th percentile: {0}\".format(telecom.av_amt_data_6_7.quantile(0.7)))"
   ]
  },
  {
   "cell_type": "code",
   "execution_count": 25,
   "metadata": {},
   "outputs": [
    {
     "data": {
      "text/plain": [
       "(30001, 201)"
      ]
     },
     "execution_count": 25,
     "metadata": {},
     "output_type": "execute_result"
    }
   ],
   "source": [
    "# retain only those customers who have recharged their mobiles with more than or equal to 70th percentile amount\n",
    "telecom_filtered = telecom.loc[telecom.av_amt_data_6_7 >= telecom.av_amt_data_6_7.quantile(0.7), :]\n",
    "telecom_filtered = telecom_filtered.reset_index(drop=True)\n",
    "telecom_filtered.shape"
   ]
  },
  {
   "cell_type": "code",
   "execution_count": 26,
   "metadata": {},
   "outputs": [
    {
     "data": {
      "text/plain": [
       "(30001, 196)"
      ]
     },
     "execution_count": 26,
     "metadata": {},
     "output_type": "execute_result"
    }
   ],
   "source": [
    "# delete variables created to filter high-value customers\n",
    "telecom_filtered = telecom_filtered.drop(['total_data_rech_6', 'total_data_rech_7',\n",
    "                                      'amt_data_6', 'amt_data_7', 'av_amt_data_6_7'], axis=1)\n",
    "telecom_filtered.shape"
   ]
  },
  {
   "cell_type": "markdown",
   "metadata": {},
   "source": [
    "We're left with 30,001 rows after selecting the customers who have provided recharge value of more than or equal to the recharge value of the 70th percentile customer."
   ]
  },
  {
   "cell_type": "markdown",
   "metadata": {},
   "source": [
    "## C) Derive Churn"
   ]
  },
  {
   "cell_type": "code",
   "execution_count": 27,
   "metadata": {},
   "outputs": [],
   "source": [
    "# calculate total incoming and outgoing minutes of usage\n",
    "telecom_filtered['total_calls_mou_9'] = telecom_filtered.total_ic_mou_9 + telecom_filtered.total_og_mou_9"
   ]
  },
  {
   "cell_type": "code",
   "execution_count": 28,
   "metadata": {},
   "outputs": [],
   "source": [
    "# calculate 2g and 3g data consumption\n",
    "telecom_filtered['total_internet_mb_9'] =  telecom_filtered.vol_2g_mb_9 + telecom_filtered.vol_3g_mb_9"
   ]
  },
  {
   "cell_type": "code",
   "execution_count": 29,
   "metadata": {},
   "outputs": [],
   "source": [
    "# create churn variable: those who have not used either calls or internet in the month of September are customers who have churned\n",
    "# 0 - not churn, 1 - churn\n",
    "telecom_filtered['churn'] = telecom_filtered.apply(lambda row: 1 if (row.total_calls_mou_9 == 0 and row.total_internet_mb_9 == 0) else 0, axis=1)"
   ]
  },
  {
   "cell_type": "code",
   "execution_count": 30,
   "metadata": {},
   "outputs": [],
   "source": [
    "# delete derived variables\n",
    "telecom_filtered = telecom_filtered.drop(['total_calls_mou_9', 'total_internet_mb_9'], axis=1)"
   ]
  },
  {
   "cell_type": "code",
   "execution_count": 31,
   "metadata": {},
   "outputs": [
    {
     "name": "stdout",
     "output_type": "stream",
     "text": [
      "Churn Ratio:\n",
      "0    91.863605\n",
      "1     8.136395\n",
      "Name: churn, dtype: float64\n"
     ]
    }
   ],
   "source": [
    "# change data type to category\n",
    "telecom_filtered.churn = telecom_filtered.churn.astype(\"category\")\n",
    "\n",
    "# print churn ratio\n",
    "print(\"Churn Ratio:\")\n",
    "print(telecom_filtered.churn.value_counts()*100/telecom_filtered.shape[0])"
   ]
  },
  {
   "cell_type": "code",
   "execution_count": 32,
   "metadata": {},
   "outputs": [
    {
     "data": {
      "text/plain": [
       "(30001, 197)"
      ]
     },
     "execution_count": 32,
     "metadata": {},
     "output_type": "execute_result"
    }
   ],
   "source": [
    "telecom_filtered.shape"
   ]
  },
  {
   "cell_type": "code",
   "execution_count": 33,
   "metadata": {},
   "outputs": [
    {
     "data": {
      "text/plain": [
       "(30001, 150)"
      ]
     },
     "execution_count": 33,
     "metadata": {},
     "output_type": "execute_result"
    }
   ],
   "source": [
    "# delete all variables relating to 9th month\n",
    "telecom_filtered = telecom_filtered.filter(regex='[^9]$', axis=1)\n",
    "telecom_filtered.shape"
   ]
  },
  {
   "cell_type": "code",
   "execution_count": 34,
   "metadata": {},
   "outputs": [],
   "source": [
    "telecom_cleaned= telecom_filtered.loc[:,telecom_filtered.nunique()!=1]"
   ]
  },
  {
   "cell_type": "code",
   "execution_count": 35,
   "metadata": {},
   "outputs": [
    {
     "data": {
      "text/plain": [
       "(30001, 141)"
      ]
     },
     "execution_count": 35,
     "metadata": {},
     "output_type": "execute_result"
    }
   ],
   "source": [
    "telecom_cleaned.shape"
   ]
  },
  {
   "cell_type": "code",
   "execution_count": 36,
   "metadata": {},
   "outputs": [],
   "source": [
    "# extract all names that end with 9\n",
    "col_9_names = telecom_cleaned.filter(regex='9$', axis=1).columns\n",
    "\n",
    "# update num_cols and cat_cols column name list\n",
    "cat_cols = [col for col in cat_cols if col not in col_9_names]\n",
    "cat_cols.append('churn')\n",
    "num_cols = [col for col in telecom_cleaned.columns if col not in cat_cols]"
   ]
  },
  {
   "cell_type": "code",
   "execution_count": 37,
   "metadata": {},
   "outputs": [],
   "source": [
    "#telecom_cleaned[num_cols] = telecom_cleaned[num_cols].apply(pd.to_numeric)\n",
    "#telecom_cleaned[cat_cols] = telecom_cleaned[cat_cols].apply(lambda column: column.astype(\"category\"), axis=0)"
   ]
  },
  {
   "cell_type": "markdown",
   "metadata": {},
   "source": [
    "# Step 3. Data Preparation"
   ]
  },
  {
   "cell_type": "markdown",
   "metadata": {},
   "source": [
    "### Subtask 3.1 : Derived Variable"
   ]
  },
  {
   "cell_type": "code",
   "execution_count": 38,
   "metadata": {},
   "outputs": [],
   "source": [
    "telecom_cleaned['arpu_diff'] = telecom_cleaned.arpu_8 - ((telecom_cleaned.arpu_6 + telecom_cleaned.arpu_7)/2)\n",
    "\n",
    "telecom_cleaned['onnet_mou_diff'] = telecom_cleaned.onnet_mou_8 - ((telecom_cleaned.onnet_mou_6 + telecom_cleaned.onnet_mou_7)/2)\n",
    "\n",
    "telecom_cleaned['offnet_mou_diff'] = telecom_cleaned.offnet_mou_8 - ((telecom_cleaned.offnet_mou_6 + telecom_cleaned.offnet_mou_7)/2)\n",
    "\n",
    "telecom_cleaned['roam_ic_mou_diff'] = telecom_cleaned.roam_ic_mou_8 - ((telecom_cleaned.roam_ic_mou_6 + telecom_cleaned.roam_ic_mou_7)/2)\n",
    "\n",
    "telecom_cleaned['roam_og_mou_diff'] = telecom_cleaned.roam_og_mou_8 - ((telecom_cleaned.roam_og_mou_6 + telecom_cleaned.roam_og_mou_7)/2)\n",
    "\n",
    "telecom_cleaned['total_rech_amnt'] = telecom_cleaned['total_rech_amt_6'] + telecom_cleaned['total_rech_amt_7'] + telecom_cleaned['total_rech_amt_8']\n",
    "\n",
    "telecom_cleaned['total_og_mou'] = telecom_cleaned['total_og_mou_6'] + telecom_cleaned['total_og_mou_7'] + telecom_cleaned['total_og_mou_8']\n",
    "\n",
    "telecom_cleaned['total_ic_mou'] = telecom_cleaned['total_ic_mou_6'] + telecom_cleaned['total_ic_mou_7'] + telecom_cleaned['total_ic_mou_8']\n",
    "\n",
    "telecom_cleaned['total_og_t2c'] = telecom_cleaned[\"loc_og_t2c_mou_8\"] + telecom_cleaned[\"loc_og_t2c_mou_7\"] + telecom_cleaned[\"loc_og_t2c_mou_6\"]\n"
   ]
  },
  {
   "cell_type": "code",
   "execution_count": 39,
   "metadata": {},
   "outputs": [
    {
     "data": {
      "text/html": [
       "<div>\n",
       "<style scoped>\n",
       "    .dataframe tbody tr th:only-of-type {\n",
       "        vertical-align: middle;\n",
       "    }\n",
       "\n",
       "    .dataframe tbody tr th {\n",
       "        vertical-align: top;\n",
       "    }\n",
       "\n",
       "    .dataframe thead th {\n",
       "        text-align: right;\n",
       "    }\n",
       "</style>\n",
       "<table border=\"1\" class=\"dataframe\">\n",
       "  <thead>\n",
       "    <tr style=\"text-align: right;\">\n",
       "      <th></th>\n",
       "      <th>arpu_6</th>\n",
       "      <th>arpu_7</th>\n",
       "      <th>arpu_8</th>\n",
       "      <th>onnet_mou_6</th>\n",
       "      <th>onnet_mou_7</th>\n",
       "      <th>onnet_mou_8</th>\n",
       "      <th>offnet_mou_6</th>\n",
       "      <th>offnet_mou_7</th>\n",
       "      <th>offnet_mou_8</th>\n",
       "      <th>roam_ic_mou_6</th>\n",
       "      <th>...</th>\n",
       "      <th>churn</th>\n",
       "      <th>arpu_diff</th>\n",
       "      <th>onnet_mou_diff</th>\n",
       "      <th>offnet_mou_diff</th>\n",
       "      <th>roam_ic_mou_diff</th>\n",
       "      <th>roam_og_mou_diff</th>\n",
       "      <th>total_rech_amnt</th>\n",
       "      <th>total_og_mou</th>\n",
       "      <th>total_ic_mou</th>\n",
       "      <th>total_og_t2c</th>\n",
       "    </tr>\n",
       "  </thead>\n",
       "  <tbody>\n",
       "    <tr>\n",
       "      <th>0</th>\n",
       "      <td>197.385</td>\n",
       "      <td>214.816</td>\n",
       "      <td>213.803</td>\n",
       "      <td>132.395875</td>\n",
       "      <td>133.670805</td>\n",
       "      <td>0.00</td>\n",
       "      <td>197.935577</td>\n",
       "      <td>197.045133</td>\n",
       "      <td>0.00</td>\n",
       "      <td>9.950013</td>\n",
       "      <td>...</td>\n",
       "      <td>1</td>\n",
       "      <td>7.7025</td>\n",
       "      <td>-133.03334</td>\n",
       "      <td>-197.490355</td>\n",
       "      <td>-8.549956</td>\n",
       "      <td>-11.865035</td>\n",
       "      <td>866.0</td>\n",
       "      <td>0.00</td>\n",
       "      <td>5.44</td>\n",
       "      <td>2.491556</td>\n",
       "    </tr>\n",
       "    <tr>\n",
       "      <th>1</th>\n",
       "      <td>1069.180</td>\n",
       "      <td>1349.850</td>\n",
       "      <td>3171.480</td>\n",
       "      <td>57.840000</td>\n",
       "      <td>54.680000</td>\n",
       "      <td>52.29</td>\n",
       "      <td>453.430000</td>\n",
       "      <td>567.160000</td>\n",
       "      <td>325.91</td>\n",
       "      <td>16.230000</td>\n",
       "      <td>...</td>\n",
       "      <td>1</td>\n",
       "      <td>1961.9650</td>\n",
       "      <td>-3.97000</td>\n",
       "      <td>-184.385000</td>\n",
       "      <td>6.780000</td>\n",
       "      <td>19.895000</td>\n",
       "      <td>6008.0</td>\n",
       "      <td>1446.93</td>\n",
       "      <td>1613.24</td>\n",
       "      <td>0.000000</td>\n",
       "    </tr>\n",
       "    <tr>\n",
       "      <th>2</th>\n",
       "      <td>378.721</td>\n",
       "      <td>492.223</td>\n",
       "      <td>137.362</td>\n",
       "      <td>413.690000</td>\n",
       "      <td>351.030000</td>\n",
       "      <td>35.08</td>\n",
       "      <td>94.660000</td>\n",
       "      <td>80.630000</td>\n",
       "      <td>136.48</td>\n",
       "      <td>0.000000</td>\n",
       "      <td>...</td>\n",
       "      <td>0</td>\n",
       "      <td>-298.1100</td>\n",
       "      <td>-347.28000</td>\n",
       "      <td>48.835000</td>\n",
       "      <td>0.000000</td>\n",
       "      <td>0.000000</td>\n",
       "      <td>1158.0</td>\n",
       "      <td>1111.58</td>\n",
       "      <td>148.89</td>\n",
       "      <td>7.150000</td>\n",
       "    </tr>\n",
       "    <tr>\n",
       "      <th>3</th>\n",
       "      <td>514.453</td>\n",
       "      <td>597.753</td>\n",
       "      <td>637.760</td>\n",
       "      <td>102.410000</td>\n",
       "      <td>132.110000</td>\n",
       "      <td>85.14</td>\n",
       "      <td>757.930000</td>\n",
       "      <td>896.680000</td>\n",
       "      <td>983.39</td>\n",
       "      <td>0.000000</td>\n",
       "      <td>...</td>\n",
       "      <td>0</td>\n",
       "      <td>81.6570</td>\n",
       "      <td>-32.12000</td>\n",
       "      <td>156.085000</td>\n",
       "      <td>0.000000</td>\n",
       "      <td>0.000000</td>\n",
       "      <td>1998.0</td>\n",
       "      <td>2957.67</td>\n",
       "      <td>600.02</td>\n",
       "      <td>0.000000</td>\n",
       "    </tr>\n",
       "    <tr>\n",
       "      <th>4</th>\n",
       "      <td>74.350</td>\n",
       "      <td>193.897</td>\n",
       "      <td>366.966</td>\n",
       "      <td>48.960000</td>\n",
       "      <td>50.660000</td>\n",
       "      <td>33.58</td>\n",
       "      <td>85.410000</td>\n",
       "      <td>89.360000</td>\n",
       "      <td>205.89</td>\n",
       "      <td>0.000000</td>\n",
       "      <td>...</td>\n",
       "      <td>0</td>\n",
       "      <td>232.8425</td>\n",
       "      <td>-16.23000</td>\n",
       "      <td>118.505000</td>\n",
       "      <td>0.000000</td>\n",
       "      <td>0.000000</td>\n",
       "      <td>893.0</td>\n",
       "      <td>513.90</td>\n",
       "      <td>640.80</td>\n",
       "      <td>17.710000</td>\n",
       "    </tr>\n",
       "  </tbody>\n",
       "</table>\n",
       "<p>5 rows × 150 columns</p>\n",
       "</div>"
      ],
      "text/plain": [
       "     arpu_6    arpu_7    arpu_8  onnet_mou_6  onnet_mou_7  onnet_mou_8  \\\n",
       "0   197.385   214.816   213.803   132.395875   133.670805         0.00   \n",
       "1  1069.180  1349.850  3171.480    57.840000    54.680000        52.29   \n",
       "2   378.721   492.223   137.362   413.690000   351.030000        35.08   \n",
       "3   514.453   597.753   637.760   102.410000   132.110000        85.14   \n",
       "4    74.350   193.897   366.966    48.960000    50.660000        33.58   \n",
       "\n",
       "   offnet_mou_6  offnet_mou_7  offnet_mou_8  roam_ic_mou_6  ...  churn  \\\n",
       "0    197.935577    197.045133          0.00       9.950013  ...      1   \n",
       "1    453.430000    567.160000        325.91      16.230000  ...      1   \n",
       "2     94.660000     80.630000        136.48       0.000000  ...      0   \n",
       "3    757.930000    896.680000        983.39       0.000000  ...      0   \n",
       "4     85.410000     89.360000        205.89       0.000000  ...      0   \n",
       "\n",
       "   arpu_diff  onnet_mou_diff  offnet_mou_diff  roam_ic_mou_diff  \\\n",
       "0     7.7025      -133.03334      -197.490355         -8.549956   \n",
       "1  1961.9650        -3.97000      -184.385000          6.780000   \n",
       "2  -298.1100      -347.28000        48.835000          0.000000   \n",
       "3    81.6570       -32.12000       156.085000          0.000000   \n",
       "4   232.8425       -16.23000       118.505000          0.000000   \n",
       "\n",
       "   roam_og_mou_diff  total_rech_amnt  total_og_mou  total_ic_mou  total_og_t2c  \n",
       "0        -11.865035            866.0          0.00          5.44      2.491556  \n",
       "1         19.895000           6008.0       1446.93       1613.24      0.000000  \n",
       "2          0.000000           1158.0       1111.58        148.89      7.150000  \n",
       "3          0.000000           1998.0       2957.67        600.02      0.000000  \n",
       "4          0.000000            893.0        513.90        640.80     17.710000  \n",
       "\n",
       "[5 rows x 150 columns]"
      ]
     },
     "execution_count": 39,
     "metadata": {},
     "output_type": "execute_result"
    }
   ],
   "source": [
    "telecom_cleaned.head()"
   ]
  },
  {
   "cell_type": "markdown",
   "metadata": {},
   "source": [
    "### Subtask 3.2 : Some EDA"
   ]
  },
  {
   "cell_type": "code",
   "execution_count": 40,
   "metadata": {},
   "outputs": [
    {
     "data": {
      "image/png": "[encoded data removed]",
      "text/plain": [
       "<Figure size 432x288 with 1 Axes>"
      ]
     },
     "metadata": {
      "needs_background": "light"
     },
     "output_type": "display_data"
    }
   ],
   "source": [
    "plt.title('Churned v/s Not Churned')\n",
    "sns.countplot(x='churn', data = telecom_cleaned) # 0 - not churn, 1 - churn\n",
    "plt.show()"
   ]
  },
  {
   "cell_type": "code",
   "execution_count": 41,
   "metadata": {},
   "outputs": [
    {
     "data": {
      "text/plain": [
       "<matplotlib.axes._subplots.AxesSubplot at 0x1819f2b0b20>"
      ]
     },
     "execution_count": 41,
     "metadata": {},
     "output_type": "execute_result"
    },
    {
     "data": {
      "image/png": "[encoded data removed]",
      "text/plain": [
       "<Figure size 432x288 with 1 Axes>"
      ]
     },
     "metadata": {
      "needs_background": "light"
     },
     "output_type": "display_data"
    }
   ],
   "source": [
    "sns.distplot(telecom_cleaned['arpu_6'],hist = False, label = 'Average revenue per user')"
   ]
  },
  {
   "cell_type": "code",
   "execution_count": 42,
   "metadata": {},
   "outputs": [
    {
     "data": {
      "text/plain": [
       "<matplotlib.axes._subplots.AxesSubplot at 0x1819f366160>"
      ]
     },
     "execution_count": 42,
     "metadata": {},
     "output_type": "execute_result"
    },
    {
     "data": {
      "image/png": "[encoded data removed]",
      "text/plain": [
       "<Figure size 432x288 with 1 Axes>"
      ]
     },
     "metadata": {
      "needs_background": "light"
     },
     "output_type": "display_data"
    }
   ],
   "source": [
    "sns.distplot(telecom_cleaned['onnet_mou_8'],hist = False, label = 'All kind of calls within the same operator network in 8th month')"
   ]
  },
  {
   "cell_type": "code",
   "execution_count": 43,
   "metadata": {},
   "outputs": [
    {
     "data": {
      "image/png": "[encoded data removed]",
      "text/plain": [
       "<Figure size 1080x504 with 1 Axes>"
      ]
     },
     "metadata": {
      "needs_background": "light"
     },
     "output_type": "display_data"
    }
   ],
   "source": [
    "plt.figure(figsize=[15,7])\n",
    "plt.subplot(1,2,1)\n",
    "plt.title('Incoming Calls - Churn')\n",
    "sns.boxplot(telecom_cleaned['churn'], telecom_cleaned['total_ic_mou']) #0 - not churn, 1 - churn\n",
    "plt.show()"
   ]
  },
  {
   "cell_type": "code",
   "execution_count": 44,
   "metadata": {},
   "outputs": [
    {
     "data": {
      "image/png": "[encoded data removed]",
      "text/plain": [
       "<Figure size 1080x504 with 1 Axes>"
      ]
     },
     "metadata": {
      "needs_background": "light"
     },
     "output_type": "display_data"
    }
   ],
   "source": [
    "plt.figure(figsize=[15,7])\n",
    "plt.subplot(1,2,1)\n",
    "plt.title('Outgoing Calls - Churn')\n",
    "sns.boxplot(telecom_cleaned['churn'], telecom_cleaned['total_og_mou']) #0 - not churn, 1 - churn\n",
    "plt.show()"
   ]
  },
  {
   "cell_type": "code",
   "execution_count": 45,
   "metadata": {},
   "outputs": [
    {
     "data": {
      "image/png": "[encoded data removed]",
      "text/plain": [
       "<Figure size 1080x504 with 1 Axes>"
      ]
     },
     "metadata": {
      "needs_background": "light"
     },
     "output_type": "display_data"
    }
   ],
   "source": [
    "plt.figure(figsize=[15,7])\n",
    "plt.subplot(1,2,1)\n",
    "plt.title('Recharge Amounts - Churn')\n",
    "sns.boxplot(telecom_cleaned['churn'], telecom_cleaned['total_rech_amnt']) #0 - not churn, 1 - churn\n",
    "plt.show()"
   ]
  },
  {
   "cell_type": "code",
   "execution_count": 46,
   "metadata": {},
   "outputs": [
    {
     "data": {
      "image/png": "[encoded data removed]",
      "text/plain": [
       "<Figure size 1080x504 with 1 Axes>"
      ]
     },
     "metadata": {
      "needs_background": "light"
     },
     "output_type": "display_data"
    }
   ],
   "source": [
    "plt.figure(figsize=[15,7])\n",
    "plt.subplot(1,2,1)\n",
    "plt.title('Average Revenue per user for Churned & Not-Churned User')\n",
    "sns.boxplot(telecom_cleaned['churn'], telecom_cleaned['arpu_6']) #0 - not churn, 1 - churn\n",
    "plt.show()"
   ]
  },
  {
   "cell_type": "markdown",
   "metadata": {},
   "source": [
    "### Subtask 3.3 : Outlier Treatment - k-sigma technique"
   ]
  },
  {
   "cell_type": "code",
   "execution_count": 47,
   "metadata": {},
   "outputs": [],
   "source": [
    "def cap_outliers(array, k=3):\n",
    "    upper_limit = array.mean() + k*array.std()\n",
    "    lower_limit = array.mean() - k*array.std()\n",
    "    array[array<lower_limit] = lower_limit\n",
    "    array[array>upper_limit] = upper_limit\n",
    "    return array"
   ]
  },
  {
   "cell_type": "code",
   "execution_count": 48,
   "metadata": {},
   "outputs": [],
   "source": [
    "# cap outliers in the numeric columns\n",
    "telecom_cleaned[num_cols] = telecom_cleaned[num_cols].apply(cap_outliers, axis=0)"
   ]
  },
  {
   "cell_type": "code",
   "execution_count": 49,
   "metadata": {},
   "outputs": [
    {
     "data": {
      "image/png": "[encoded data removed]",
      "text/plain": [
       "<Figure size 1080x504 with 1 Axes>"
      ]
     },
     "metadata": {
      "needs_background": "light"
     },
     "output_type": "display_data"
    }
   ],
   "source": [
    "plt.figure(figsize=[15,7])\n",
    "plt.subplot(1,2,1)\n",
    "plt.title('Recharge Amounts - Churn')\n",
    "sns.boxplot(telecom_cleaned['churn'], telecom_cleaned['arpu_6']) #0 - not churn, 1 - churn\n",
    "plt.show()"
   ]
  },
  {
   "cell_type": "markdown",
   "metadata": {},
   "source": [
    "### Subtask 3.4 : Train-Test Split"
   ]
  },
  {
   "cell_type": "code",
   "execution_count": 50,
   "metadata": {},
   "outputs": [],
   "source": [
    "# divide data into train and test\n",
    "from sklearn.model_selection import train_test_split\n",
    "X = telecom_cleaned.drop(\"churn\", axis = 1)\n",
    "y = telecom_cleaned.churn\n",
    "X_train, X_test, y_train, y_test = train_test_split(X, y, test_size = 0.25, random_state = 4, stratify = y)"
   ]
  },
  {
   "cell_type": "code",
   "execution_count": 51,
   "metadata": {},
   "outputs": [
    {
     "data": {
      "text/plain": [
       "((22500, 149), (22500,), (7501, 149), (7501,))"
      ]
     },
     "execution_count": 51,
     "metadata": {},
     "output_type": "execute_result"
    }
   ],
   "source": [
    "# print shapes of train and test sets\n",
    "X_train.shape , y_train.shape , X_test.shape , y_test.shape"
   ]
  },
  {
   "cell_type": "markdown",
   "metadata": {},
   "source": [
    "### Subtask 3.5 : Feature Scaling"
   ]
  },
  {
   "cell_type": "code",
   "execution_count": 52,
   "metadata": {},
   "outputs": [],
   "source": [
    "from sklearn.preprocessing import StandardScaler\n",
    "ss = StandardScaler()\n",
    "telecom_cleaned_scaled = ss.fit_transform(telecom_cleaned)"
   ]
  },
  {
   "cell_type": "code",
   "execution_count": 53,
   "metadata": {},
   "outputs": [
    {
     "data": {
      "text/html": [
       "<div>\n",
       "<style scoped>\n",
       "    .dataframe tbody tr th:only-of-type {\n",
       "        vertical-align: middle;\n",
       "    }\n",
       "\n",
       "    .dataframe tbody tr th {\n",
       "        vertical-align: top;\n",
       "    }\n",
       "\n",
       "    .dataframe thead th {\n",
       "        text-align: right;\n",
       "    }\n",
       "</style>\n",
       "<table border=\"1\" class=\"dataframe\">\n",
       "  <thead>\n",
       "    <tr style=\"text-align: right;\">\n",
       "      <th></th>\n",
       "      <th>arpu_6</th>\n",
       "      <th>arpu_7</th>\n",
       "      <th>arpu_8</th>\n",
       "      <th>onnet_mou_6</th>\n",
       "      <th>onnet_mou_7</th>\n",
       "      <th>onnet_mou_8</th>\n",
       "      <th>offnet_mou_6</th>\n",
       "      <th>offnet_mou_7</th>\n",
       "      <th>offnet_mou_8</th>\n",
       "      <th>roam_ic_mou_6</th>\n",
       "      <th>...</th>\n",
       "      <th>churn</th>\n",
       "      <th>arpu_diff</th>\n",
       "      <th>onnet_mou_diff</th>\n",
       "      <th>offnet_mou_diff</th>\n",
       "      <th>roam_ic_mou_diff</th>\n",
       "      <th>roam_og_mou_diff</th>\n",
       "      <th>total_rech_amnt</th>\n",
       "      <th>total_og_mou</th>\n",
       "      <th>total_ic_mou</th>\n",
       "      <th>total_og_t2c</th>\n",
       "    </tr>\n",
       "  </thead>\n",
       "  <tbody>\n",
       "    <tr>\n",
       "      <th>0</th>\n",
       "      <td>197.385</td>\n",
       "      <td>214.816</td>\n",
       "      <td>213.803000</td>\n",
       "      <td>132.395875</td>\n",
       "      <td>133.670805</td>\n",
       "      <td>0.00</td>\n",
       "      <td>197.935577</td>\n",
       "      <td>197.045133</td>\n",
       "      <td>0.00</td>\n",
       "      <td>9.950013</td>\n",
       "      <td>...</td>\n",
       "      <td>1</td>\n",
       "      <td>7.7025</td>\n",
       "      <td>-133.03334</td>\n",
       "      <td>-197.490355</td>\n",
       "      <td>-8.549956</td>\n",
       "      <td>-11.865035</td>\n",
       "      <td>866.0</td>\n",
       "      <td>0.00</td>\n",
       "      <td>5.44</td>\n",
       "      <td>2.491556</td>\n",
       "    </tr>\n",
       "    <tr>\n",
       "      <th>1</th>\n",
       "      <td>1069.180</td>\n",
       "      <td>1349.850</td>\n",
       "      <td>2014.483901</td>\n",
       "      <td>57.840000</td>\n",
       "      <td>54.680000</td>\n",
       "      <td>52.29</td>\n",
       "      <td>453.430000</td>\n",
       "      <td>567.160000</td>\n",
       "      <td>325.91</td>\n",
       "      <td>16.230000</td>\n",
       "      <td>...</td>\n",
       "      <td>1</td>\n",
       "      <td>1961.9650</td>\n",
       "      <td>-3.97000</td>\n",
       "      <td>-184.385000</td>\n",
       "      <td>6.780000</td>\n",
       "      <td>19.895000</td>\n",
       "      <td>6008.0</td>\n",
       "      <td>1446.93</td>\n",
       "      <td>1613.24</td>\n",
       "      <td>0.000000</td>\n",
       "    </tr>\n",
       "    <tr>\n",
       "      <th>2</th>\n",
       "      <td>378.721</td>\n",
       "      <td>492.223</td>\n",
       "      <td>137.362000</td>\n",
       "      <td>413.690000</td>\n",
       "      <td>351.030000</td>\n",
       "      <td>35.08</td>\n",
       "      <td>94.660000</td>\n",
       "      <td>80.630000</td>\n",
       "      <td>136.48</td>\n",
       "      <td>0.000000</td>\n",
       "      <td>...</td>\n",
       "      <td>0</td>\n",
       "      <td>-298.1100</td>\n",
       "      <td>-347.28000</td>\n",
       "      <td>48.835000</td>\n",
       "      <td>0.000000</td>\n",
       "      <td>0.000000</td>\n",
       "      <td>1158.0</td>\n",
       "      <td>1111.58</td>\n",
       "      <td>148.89</td>\n",
       "      <td>7.150000</td>\n",
       "    </tr>\n",
       "    <tr>\n",
       "      <th>3</th>\n",
       "      <td>514.453</td>\n",
       "      <td>597.753</td>\n",
       "      <td>637.760000</td>\n",
       "      <td>102.410000</td>\n",
       "      <td>132.110000</td>\n",
       "      <td>85.14</td>\n",
       "      <td>757.930000</td>\n",
       "      <td>896.680000</td>\n",
       "      <td>983.39</td>\n",
       "      <td>0.000000</td>\n",
       "      <td>...</td>\n",
       "      <td>0</td>\n",
       "      <td>81.6570</td>\n",
       "      <td>-32.12000</td>\n",
       "      <td>156.085000</td>\n",
       "      <td>0.000000</td>\n",
       "      <td>0.000000</td>\n",
       "      <td>1998.0</td>\n",
       "      <td>2957.67</td>\n",
       "      <td>600.02</td>\n",
       "      <td>0.000000</td>\n",
       "    </tr>\n",
       "    <tr>\n",
       "      <th>4</th>\n",
       "      <td>74.350</td>\n",
       "      <td>193.897</td>\n",
       "      <td>366.966000</td>\n",
       "      <td>48.960000</td>\n",
       "      <td>50.660000</td>\n",
       "      <td>33.58</td>\n",
       "      <td>85.410000</td>\n",
       "      <td>89.360000</td>\n",
       "      <td>205.89</td>\n",
       "      <td>0.000000</td>\n",
       "      <td>...</td>\n",
       "      <td>0</td>\n",
       "      <td>232.8425</td>\n",
       "      <td>-16.23000</td>\n",
       "      <td>118.505000</td>\n",
       "      <td>0.000000</td>\n",
       "      <td>0.000000</td>\n",
       "      <td>893.0</td>\n",
       "      <td>513.90</td>\n",
       "      <td>640.80</td>\n",
       "      <td>17.710000</td>\n",
       "    </tr>\n",
       "  </tbody>\n",
       "</table>\n",
       "<p>5 rows × 150 columns</p>\n",
       "</div>"
      ],
      "text/plain": [
       "     arpu_6    arpu_7       arpu_8  onnet_mou_6  onnet_mou_7  onnet_mou_8  \\\n",
       "0   197.385   214.816   213.803000   132.395875   133.670805         0.00   \n",
       "1  1069.180  1349.850  2014.483901    57.840000    54.680000        52.29   \n",
       "2   378.721   492.223   137.362000   413.690000   351.030000        35.08   \n",
       "3   514.453   597.753   637.760000   102.410000   132.110000        85.14   \n",
       "4    74.350   193.897   366.966000    48.960000    50.660000        33.58   \n",
       "\n",
       "   offnet_mou_6  offnet_mou_7  offnet_mou_8  roam_ic_mou_6  ...  churn  \\\n",
       "0    197.935577    197.045133          0.00       9.950013  ...      1   \n",
       "1    453.430000    567.160000        325.91      16.230000  ...      1   \n",
       "2     94.660000     80.630000        136.48       0.000000  ...      0   \n",
       "3    757.930000    896.680000        983.39       0.000000  ...      0   \n",
       "4     85.410000     89.360000        205.89       0.000000  ...      0   \n",
       "\n",
       "   arpu_diff  onnet_mou_diff  offnet_mou_diff  roam_ic_mou_diff  \\\n",
       "0     7.7025      -133.03334      -197.490355         -8.549956   \n",
       "1  1961.9650        -3.97000      -184.385000          6.780000   \n",
       "2  -298.1100      -347.28000        48.835000          0.000000   \n",
       "3    81.6570       -32.12000       156.085000          0.000000   \n",
       "4   232.8425       -16.23000       118.505000          0.000000   \n",
       "\n",
       "   roam_og_mou_diff  total_rech_amnt  total_og_mou  total_ic_mou  total_og_t2c  \n",
       "0        -11.865035            866.0          0.00          5.44      2.491556  \n",
       "1         19.895000           6008.0       1446.93       1613.24      0.000000  \n",
       "2          0.000000           1158.0       1111.58        148.89      7.150000  \n",
       "3          0.000000           1998.0       2957.67        600.02      0.000000  \n",
       "4          0.000000            893.0        513.90        640.80     17.710000  \n",
       "\n",
       "[5 rows x 150 columns]"
      ]
     },
     "execution_count": 53,
     "metadata": {},
     "output_type": "execute_result"
    }
   ],
   "source": [
    "telecom_cleaned_scaled =  pd.DataFrame(telecom_cleaned_scaled)\n",
    "telecom_cleaned.head()"
   ]
  },
  {
   "cell_type": "code",
   "execution_count": 54,
   "metadata": {},
   "outputs": [
    {
     "data": {
      "text/plain": [
       "8.136395453484884"
      ]
     },
     "execution_count": 54,
     "metadata": {},
     "output_type": "execute_result"
    }
   ],
   "source": [
    "### Checking the Churn Rate\n",
    "churn = (sum(telecom_cleaned['churn'])/len(telecom_cleaned['churn'].index))*100\n",
    "churn"
   ]
  },
  {
   "cell_type": "markdown",
   "metadata": {},
   "source": [
    "# Step 4. Modelling"
   ]
  },
  {
   "cell_type": "markdown",
   "metadata": {},
   "source": [
    "### Subtask 4.1 : Logistic Regression Model"
   ]
  },
  {
   "cell_type": "code",
   "execution_count": 55,
   "metadata": {},
   "outputs": [],
   "source": [
    "import statsmodels.api as sm"
   ]
  },
  {
   "cell_type": "code",
   "execution_count": 56,
   "metadata": {},
   "outputs": [
    {
     "data": {
      "text/html": [
       "<table class=\"simpletable\">\n",
       "<caption>Generalized Linear Model Regression Results</caption>\n",
       "<tr>\n",
       "  <th>Dep. Variable:</th>         <td>churn</td>      <th>  No. Observations:  </th>  <td> 22500</td> \n",
       "</tr>\n",
       "<tr>\n",
       "  <th>Model:</th>                  <td>GLM</td>       <th>  Df Residuals:      </th>  <td> 22350</td> \n",
       "</tr>\n",
       "<tr>\n",
       "  <th>Model Family:</th>        <td>Binomial</td>     <th>  Df Model:          </th>  <td>   149</td> \n",
       "</tr>\n",
       "<tr>\n",
       "  <th>Link Function:</th>         <td>logit</td>      <th>  Scale:             </th> <td>  1.0000</td>\n",
       "</tr>\n",
       "<tr>\n",
       "  <th>Method:</th>                <td>IRLS</td>       <th>  Log-Likelihood:    </th> <td> -3726.6</td>\n",
       "</tr>\n",
       "<tr>\n",
       "  <th>Date:</th>            <td>Sat, 27 Feb 2021</td> <th>  Deviance:          </th> <td>  7453.2</td>\n",
       "</tr>\n",
       "<tr>\n",
       "  <th>Time:</th>                <td>14:13:41</td>     <th>  Pearson chi2:      </th> <td>3.09e+07</td>\n",
       "</tr>\n",
       "<tr>\n",
       "  <th>No. Iterations:</th>         <td>10</td>        <th>                     </th>     <td> </td>   \n",
       "</tr>\n",
       "<tr>\n",
       "  <th>Covariance Type:</th>     <td>nonrobust</td>    <th>                     </th>     <td> </td>   \n",
       "</tr>\n",
       "</table>\n",
       "<table class=\"simpletable\">\n",
       "<tr>\n",
       "           <td></td>             <th>coef</th>     <th>std err</th>      <th>z</th>      <th>P>|z|</th>  <th>[0.025</th>    <th>0.975]</th>  \n",
       "</tr>\n",
       "<tr>\n",
       "  <th>const</th>              <td>   -1.7290</td> <td>    0.222</td> <td>   -7.794</td> <td> 0.000</td> <td>   -2.164</td> <td>   -1.294</td>\n",
       "</tr>\n",
       "<tr>\n",
       "  <th>arpu_6</th>             <td>    0.0003</td> <td>    0.000</td> <td>    0.739</td> <td> 0.460</td> <td>   -0.000</td> <td>    0.001</td>\n",
       "</tr>\n",
       "<tr>\n",
       "  <th>arpu_7</th>             <td>    0.0002</td> <td>    0.000</td> <td>    0.661</td> <td> 0.509</td> <td>   -0.000</td> <td>    0.001</td>\n",
       "</tr>\n",
       "<tr>\n",
       "  <th>arpu_8</th>             <td>    0.0012</td> <td>    0.000</td> <td>    2.557</td> <td> 0.011</td> <td>    0.000</td> <td>    0.002</td>\n",
       "</tr>\n",
       "<tr>\n",
       "  <th>onnet_mou_6</th>        <td>    0.0010</td> <td>    0.001</td> <td>    1.707</td> <td> 0.088</td> <td>   -0.000</td> <td>    0.002</td>\n",
       "</tr>\n",
       "<tr>\n",
       "  <th>onnet_mou_7</th>        <td>    0.0009</td> <td>    0.001</td> <td>    1.409</td> <td> 0.159</td> <td>   -0.000</td> <td>    0.002</td>\n",
       "</tr>\n",
       "<tr>\n",
       "  <th>onnet_mou_8</th>        <td>   -0.0012</td> <td>    0.001</td> <td>   -1.349</td> <td> 0.177</td> <td>   -0.003</td> <td>    0.001</td>\n",
       "</tr>\n",
       "<tr>\n",
       "  <th>offnet_mou_6</th>       <td>    0.0005</td> <td>    0.000</td> <td>    0.947</td> <td> 0.343</td> <td>   -0.001</td> <td>    0.001</td>\n",
       "</tr>\n",
       "<tr>\n",
       "  <th>offnet_mou_7</th>       <td>    0.0009</td> <td>    0.001</td> <td>    1.621</td> <td> 0.105</td> <td>   -0.000</td> <td>    0.002</td>\n",
       "</tr>\n",
       "<tr>\n",
       "  <th>offnet_mou_8</th>       <td>   -0.0008</td> <td>    0.001</td> <td>   -1.148</td> <td> 0.251</td> <td>   -0.002</td> <td>    0.001</td>\n",
       "</tr>\n",
       "<tr>\n",
       "  <th>roam_ic_mou_6</th>      <td>   -0.0014</td> <td>    0.001</td> <td>   -1.016</td> <td> 0.310</td> <td>   -0.004</td> <td>    0.001</td>\n",
       "</tr>\n",
       "<tr>\n",
       "  <th>roam_ic_mou_7</th>      <td>    0.0020</td> <td>    0.002</td> <td>    1.276</td> <td> 0.202</td> <td>   -0.001</td> <td>    0.005</td>\n",
       "</tr>\n",
       "<tr>\n",
       "  <th>roam_ic_mou_8</th>      <td>    0.0010</td> <td>    0.002</td> <td>    0.661</td> <td> 0.509</td> <td>   -0.002</td> <td>    0.004</td>\n",
       "</tr>\n",
       "<tr>\n",
       "  <th>roam_og_mou_6</th>      <td>    0.0002</td> <td>    0.001</td> <td>    0.251</td> <td> 0.802</td> <td>   -0.002</td> <td>    0.002</td>\n",
       "</tr>\n",
       "<tr>\n",
       "  <th>roam_og_mou_7</th>      <td>   -0.0004</td> <td>    0.001</td> <td>   -0.403</td> <td> 0.687</td> <td>   -0.003</td> <td>    0.002</td>\n",
       "</tr>\n",
       "<tr>\n",
       "  <th>roam_og_mou_8</th>      <td>    0.0024</td> <td>    0.001</td> <td>    2.461</td> <td> 0.014</td> <td>    0.000</td> <td>    0.004</td>\n",
       "</tr>\n",
       "<tr>\n",
       "  <th>loc_og_t2t_mou_6</th>   <td>    0.0014</td> <td>    0.001</td> <td>    1.108</td> <td> 0.268</td> <td>   -0.001</td> <td>    0.004</td>\n",
       "</tr>\n",
       "<tr>\n",
       "  <th>loc_og_t2t_mou_7</th>   <td>    0.0019</td> <td>    0.001</td> <td>    1.291</td> <td> 0.197</td> <td>   -0.001</td> <td>    0.005</td>\n",
       "</tr>\n",
       "<tr>\n",
       "  <th>loc_og_t2t_mou_8</th>   <td>   -0.0074</td> <td>    0.002</td> <td>   -3.848</td> <td> 0.000</td> <td>   -0.011</td> <td>   -0.004</td>\n",
       "</tr>\n",
       "<tr>\n",
       "  <th>loc_og_t2m_mou_6</th>   <td>    0.0010</td> <td>    0.001</td> <td>    0.890</td> <td> 0.373</td> <td>   -0.001</td> <td>    0.003</td>\n",
       "</tr>\n",
       "<tr>\n",
       "  <th>loc_og_t2m_mou_7</th>   <td>    0.0010</td> <td>    0.001</td> <td>    0.722</td> <td> 0.470</td> <td>   -0.002</td> <td>    0.004</td>\n",
       "</tr>\n",
       "<tr>\n",
       "  <th>loc_og_t2m_mou_8</th>   <td>   -0.0072</td> <td>    0.002</td> <td>   -4.158</td> <td> 0.000</td> <td>   -0.011</td> <td>   -0.004</td>\n",
       "</tr>\n",
       "<tr>\n",
       "  <th>loc_og_t2f_mou_6</th>   <td>   -0.0036</td> <td>    0.005</td> <td>   -0.668</td> <td> 0.504</td> <td>   -0.014</td> <td>    0.007</td>\n",
       "</tr>\n",
       "<tr>\n",
       "  <th>loc_og_t2f_mou_7</th>   <td>   -0.0084</td> <td>    0.006</td> <td>   -1.328</td> <td> 0.184</td> <td>   -0.021</td> <td>    0.004</td>\n",
       "</tr>\n",
       "<tr>\n",
       "  <th>loc_og_t2f_mou_8</th>   <td>    0.0038</td> <td>    0.007</td> <td>    0.551</td> <td> 0.582</td> <td>   -0.010</td> <td>    0.017</td>\n",
       "</tr>\n",
       "<tr>\n",
       "  <th>loc_og_t2c_mou_6</th>   <td>   -0.0011</td> <td>    0.011</td> <td>   -0.099</td> <td> 0.921</td> <td>   -0.023</td> <td>    0.021</td>\n",
       "</tr>\n",
       "<tr>\n",
       "  <th>loc_og_t2c_mou_7</th>   <td>   -0.0080</td> <td>    0.010</td> <td>   -0.792</td> <td> 0.429</td> <td>   -0.028</td> <td>    0.012</td>\n",
       "</tr>\n",
       "<tr>\n",
       "  <th>loc_og_t2c_mou_8</th>   <td>    0.0131</td> <td>    0.013</td> <td>    1.021</td> <td> 0.307</td> <td>   -0.012</td> <td>    0.038</td>\n",
       "</tr>\n",
       "<tr>\n",
       "  <th>loc_og_mou_6</th>       <td>   -0.0018</td> <td>    0.001</td> <td>   -1.433</td> <td> 0.152</td> <td>   -0.004</td> <td>    0.001</td>\n",
       "</tr>\n",
       "<tr>\n",
       "  <th>loc_og_mou_7</th>       <td>   -0.0026</td> <td>    0.001</td> <td>   -1.844</td> <td> 0.065</td> <td>   -0.005</td> <td>    0.000</td>\n",
       "</tr>\n",
       "<tr>\n",
       "  <th>loc_og_mou_8</th>       <td>    0.0120</td> <td>    0.002</td> <td>    6.322</td> <td> 0.000</td> <td>    0.008</td> <td>    0.016</td>\n",
       "</tr>\n",
       "<tr>\n",
       "  <th>std_og_t2t_mou_6</th>   <td> 9.015e-06</td> <td>    0.001</td> <td>    0.015</td> <td> 0.988</td> <td>   -0.001</td> <td>    0.001</td>\n",
       "</tr>\n",
       "<tr>\n",
       "  <th>std_og_t2t_mou_7</th>   <td>   -0.0010</td> <td>    0.001</td> <td>   -1.469</td> <td> 0.142</td> <td>   -0.002</td> <td>    0.000</td>\n",
       "</tr>\n",
       "<tr>\n",
       "  <th>std_og_t2t_mou_8</th>   <td>   -0.0019</td> <td>    0.001</td> <td>   -2.120</td> <td> 0.034</td> <td>   -0.004</td> <td>   -0.000</td>\n",
       "</tr>\n",
       "<tr>\n",
       "  <th>std_og_t2m_mou_6</th>   <td>    0.0001</td> <td>    0.001</td> <td>    0.252</td> <td> 0.801</td> <td>   -0.001</td> <td>    0.001</td>\n",
       "</tr>\n",
       "<tr>\n",
       "  <th>std_og_t2m_mou_7</th>   <td>   -0.0011</td> <td>    0.001</td> <td>   -1.689</td> <td> 0.091</td> <td>   -0.002</td> <td>    0.000</td>\n",
       "</tr>\n",
       "<tr>\n",
       "  <th>std_og_t2m_mou_8</th>   <td>   -0.0021</td> <td>    0.001</td> <td>   -2.664</td> <td> 0.008</td> <td>   -0.004</td> <td>   -0.001</td>\n",
       "</tr>\n",
       "<tr>\n",
       "  <th>std_og_t2f_mou_6</th>   <td>   -0.0051</td> <td>    0.010</td> <td>   -0.508</td> <td> 0.611</td> <td>   -0.025</td> <td>    0.015</td>\n",
       "</tr>\n",
       "<tr>\n",
       "  <th>std_og_t2f_mou_7</th>   <td>    0.0010</td> <td>    0.011</td> <td>    0.089</td> <td> 0.929</td> <td>   -0.020</td> <td>    0.022</td>\n",
       "</tr>\n",
       "<tr>\n",
       "  <th>std_og_t2f_mou_8</th>   <td>   -0.0269</td> <td>    0.016</td> <td>   -1.635</td> <td> 0.102</td> <td>   -0.059</td> <td>    0.005</td>\n",
       "</tr>\n",
       "<tr>\n",
       "  <th>std_og_mou_6</th>       <td>   -0.0003</td> <td>    0.001</td> <td>   -0.471</td> <td> 0.638</td> <td>   -0.001</td> <td>    0.001</td>\n",
       "</tr>\n",
       "<tr>\n",
       "  <th>std_og_mou_7</th>       <td>   -0.0003</td> <td>    0.001</td> <td>   -0.429</td> <td> 0.668</td> <td>   -0.002</td> <td>    0.001</td>\n",
       "</tr>\n",
       "<tr>\n",
       "  <th>std_og_mou_8</th>       <td>    0.0079</td> <td>    0.001</td> <td>    6.832</td> <td> 0.000</td> <td>    0.006</td> <td>    0.010</td>\n",
       "</tr>\n",
       "<tr>\n",
       "  <th>isd_og_mou_6</th>       <td>   -0.0011</td> <td>    0.004</td> <td>   -0.291</td> <td> 0.771</td> <td>   -0.009</td> <td>    0.007</td>\n",
       "</tr>\n",
       "<tr>\n",
       "  <th>isd_og_mou_7</th>       <td>    0.0045</td> <td>    0.005</td> <td>    0.823</td> <td> 0.410</td> <td>   -0.006</td> <td>    0.015</td>\n",
       "</tr>\n",
       "<tr>\n",
       "  <th>isd_og_mou_8</th>       <td>   -0.0019</td> <td>    0.006</td> <td>   -0.294</td> <td> 0.769</td> <td>   -0.014</td> <td>    0.011</td>\n",
       "</tr>\n",
       "<tr>\n",
       "  <th>spl_og_mou_6</th>       <td>   -0.0008</td> <td>    0.004</td> <td>   -0.196</td> <td> 0.845</td> <td>   -0.008</td> <td>    0.007</td>\n",
       "</tr>\n",
       "<tr>\n",
       "  <th>spl_og_mou_7</th>       <td>    0.0024</td> <td>    0.004</td> <td>    0.626</td> <td> 0.531</td> <td>   -0.005</td> <td>    0.010</td>\n",
       "</tr>\n",
       "<tr>\n",
       "  <th>spl_og_mou_8</th>       <td>-4.696e-05</td> <td>    0.005</td> <td>   -0.009</td> <td> 0.993</td> <td>   -0.010</td> <td>    0.010</td>\n",
       "</tr>\n",
       "<tr>\n",
       "  <th>og_others_6</th>        <td>   -0.0212</td> <td>    0.019</td> <td>   -1.125</td> <td> 0.261</td> <td>   -0.058</td> <td>    0.016</td>\n",
       "</tr>\n",
       "<tr>\n",
       "  <th>og_others_7</th>        <td>    0.1598</td> <td>    0.161</td> <td>    0.991</td> <td> 0.322</td> <td>   -0.156</td> <td>    0.476</td>\n",
       "</tr>\n",
       "<tr>\n",
       "  <th>og_others_8</th>        <td>   -1.0366</td> <td>    1.087</td> <td>   -0.953</td> <td> 0.340</td> <td>   -3.168</td> <td>    1.095</td>\n",
       "</tr>\n",
       "<tr>\n",
       "  <th>total_og_mou_6</th>     <td>   -0.0002</td> <td>    0.000</td> <td>   -0.488</td> <td> 0.626</td> <td>   -0.001</td> <td>    0.001</td>\n",
       "</tr>\n",
       "<tr>\n",
       "  <th>total_og_mou_7</th>     <td>    0.0004</td> <td>    0.000</td> <td>    0.911</td> <td> 0.362</td> <td>   -0.001</td> <td>    0.001</td>\n",
       "</tr>\n",
       "<tr>\n",
       "  <th>total_og_mou_8</th>     <td>   -0.0064</td> <td>    0.001</td> <td>   -6.628</td> <td> 0.000</td> <td>   -0.008</td> <td>   -0.004</td>\n",
       "</tr>\n",
       "<tr>\n",
       "  <th>loc_ic_t2t_mou_6</th>   <td>    0.0030</td> <td>    0.002</td> <td>    1.977</td> <td> 0.048</td> <td> 2.64e-05</td> <td>    0.006</td>\n",
       "</tr>\n",
       "<tr>\n",
       "  <th>loc_ic_t2t_mou_7</th>   <td>   -0.0002</td> <td>    0.002</td> <td>   -0.106</td> <td> 0.915</td> <td>   -0.003</td> <td>    0.003</td>\n",
       "</tr>\n",
       "<tr>\n",
       "  <th>loc_ic_t2t_mou_8</th>   <td>   -0.0075</td> <td>    0.003</td> <td>   -2.993</td> <td> 0.003</td> <td>   -0.012</td> <td>   -0.003</td>\n",
       "</tr>\n",
       "<tr>\n",
       "  <th>loc_ic_t2m_mou_6</th>   <td>    0.0035</td> <td>    0.001</td> <td>    2.620</td> <td> 0.009</td> <td>    0.001</td> <td>    0.006</td>\n",
       "</tr>\n",
       "<tr>\n",
       "  <th>loc_ic_t2m_mou_7</th>   <td>    0.0003</td> <td>    0.001</td> <td>    0.195</td> <td> 0.845</td> <td>   -0.003</td> <td>    0.003</td>\n",
       "</tr>\n",
       "<tr>\n",
       "  <th>loc_ic_t2m_mou_8</th>   <td>   -0.0078</td> <td>    0.002</td> <td>   -3.688</td> <td> 0.000</td> <td>   -0.012</td> <td>   -0.004</td>\n",
       "</tr>\n",
       "<tr>\n",
       "  <th>loc_ic_t2f_mou_6</th>   <td>    0.0020</td> <td>    0.003</td> <td>    0.689</td> <td> 0.491</td> <td>   -0.004</td> <td>    0.008</td>\n",
       "</tr>\n",
       "<tr>\n",
       "  <th>loc_ic_t2f_mou_7</th>   <td>    0.0030</td> <td>    0.003</td> <td>    0.963</td> <td> 0.336</td> <td>   -0.003</td> <td>    0.009</td>\n",
       "</tr>\n",
       "<tr>\n",
       "  <th>loc_ic_t2f_mou_8</th>   <td>   -0.0147</td> <td>    0.005</td> <td>   -3.222</td> <td> 0.001</td> <td>   -0.024</td> <td>   -0.006</td>\n",
       "</tr>\n",
       "<tr>\n",
       "  <th>loc_ic_mou_6</th>       <td>   -0.0033</td> <td>    0.001</td> <td>   -2.201</td> <td> 0.028</td> <td>   -0.006</td> <td>   -0.000</td>\n",
       "</tr>\n",
       "<tr>\n",
       "  <th>loc_ic_mou_7</th>       <td>    0.0011</td> <td>    0.002</td> <td>    0.691</td> <td> 0.490</td> <td>   -0.002</td> <td>    0.004</td>\n",
       "</tr>\n",
       "<tr>\n",
       "  <th>loc_ic_mou_8</th>       <td>    0.0119</td> <td>    0.003</td> <td>    4.646</td> <td> 0.000</td> <td>    0.007</td> <td>    0.017</td>\n",
       "</tr>\n",
       "<tr>\n",
       "  <th>std_ic_t2t_mou_6</th>   <td>   -0.0017</td> <td>    0.003</td> <td>   -0.518</td> <td> 0.605</td> <td>   -0.008</td> <td>    0.005</td>\n",
       "</tr>\n",
       "<tr>\n",
       "  <th>std_ic_t2t_mou_7</th>   <td>   -0.0013</td> <td>    0.003</td> <td>   -0.417</td> <td> 0.677</td> <td>   -0.008</td> <td>    0.005</td>\n",
       "</tr>\n",
       "<tr>\n",
       "  <th>std_ic_t2t_mou_8</th>   <td>   -0.0025</td> <td>    0.005</td> <td>   -0.486</td> <td> 0.627</td> <td>   -0.013</td> <td>    0.008</td>\n",
       "</tr>\n",
       "<tr>\n",
       "  <th>std_ic_t2m_mou_6</th>   <td>    0.0017</td> <td>    0.003</td> <td>    0.583</td> <td> 0.560</td> <td>   -0.004</td> <td>    0.007</td>\n",
       "</tr>\n",
       "<tr>\n",
       "  <th>std_ic_t2m_mou_7</th>   <td>   -0.0054</td> <td>    0.003</td> <td>   -1.757</td> <td> 0.079</td> <td>   -0.011</td> <td>    0.001</td>\n",
       "</tr>\n",
       "<tr>\n",
       "  <th>std_ic_t2m_mou_8</th>   <td>   -0.0015</td> <td>    0.005</td> <td>   -0.336</td> <td> 0.737</td> <td>   -0.010</td> <td>    0.007</td>\n",
       "</tr>\n",
       "<tr>\n",
       "  <th>std_ic_t2f_mou_6</th>   <td>    0.0032</td> <td>    0.008</td> <td>    0.411</td> <td> 0.681</td> <td>   -0.012</td> <td>    0.018</td>\n",
       "</tr>\n",
       "<tr>\n",
       "  <th>std_ic_t2f_mou_7</th>   <td>   -0.0001</td> <td>    0.009</td> <td>   -0.017</td> <td> 0.986</td> <td>   -0.017</td> <td>    0.017</td>\n",
       "</tr>\n",
       "<tr>\n",
       "  <th>std_ic_t2f_mou_8</th>   <td>   -0.0014</td> <td>    0.011</td> <td>   -0.127</td> <td> 0.899</td> <td>   -0.023</td> <td>    0.020</td>\n",
       "</tr>\n",
       "<tr>\n",
       "  <th>std_ic_mou_6</th>       <td>    0.0008</td> <td>    0.003</td> <td>    0.264</td> <td> 0.792</td> <td>   -0.005</td> <td>    0.006</td>\n",
       "</tr>\n",
       "<tr>\n",
       "  <th>std_ic_mou_7</th>       <td>    0.0030</td> <td>    0.003</td> <td>    1.024</td> <td> 0.306</td> <td>   -0.003</td> <td>    0.009</td>\n",
       "</tr>\n",
       "<tr>\n",
       "  <th>std_ic_mou_8</th>       <td>    0.0075</td> <td>    0.005</td> <td>    1.650</td> <td> 0.099</td> <td>   -0.001</td> <td>    0.016</td>\n",
       "</tr>\n",
       "<tr>\n",
       "  <th>total_ic_mou_6</th>     <td>    0.0004</td> <td>    0.001</td> <td>    0.516</td> <td> 0.606</td> <td>   -0.001</td> <td>    0.002</td>\n",
       "</tr>\n",
       "<tr>\n",
       "  <th>total_ic_mou_7</th>     <td>    0.0004</td> <td>    0.001</td> <td>    0.407</td> <td> 0.684</td> <td>   -0.001</td> <td>    0.002</td>\n",
       "</tr>\n",
       "<tr>\n",
       "  <th>total_ic_mou_8</th>     <td>   -0.0094</td> <td>    0.001</td> <td>   -6.292</td> <td> 0.000</td> <td>   -0.012</td> <td>   -0.006</td>\n",
       "</tr>\n",
       "<tr>\n",
       "  <th>spl_ic_mou_6</th>       <td>    0.0852</td> <td>    0.236</td> <td>    0.361</td> <td> 0.718</td> <td>   -0.377</td> <td>    0.547</td>\n",
       "</tr>\n",
       "<tr>\n",
       "  <th>spl_ic_mou_7</th>       <td>    0.1348</td> <td>    0.438</td> <td>    0.308</td> <td> 0.758</td> <td>   -0.724</td> <td>    0.993</td>\n",
       "</tr>\n",
       "<tr>\n",
       "  <th>spl_ic_mou_8</th>       <td>   -5.8516</td> <td>    0.897</td> <td>   -6.526</td> <td> 0.000</td> <td>   -7.609</td> <td>   -4.094</td>\n",
       "</tr>\n",
       "<tr>\n",
       "  <th>isd_ic_mou_6</th>       <td>    0.0011</td> <td>    0.002</td> <td>    0.617</td> <td> 0.537</td> <td>   -0.002</td> <td>    0.005</td>\n",
       "</tr>\n",
       "<tr>\n",
       "  <th>isd_ic_mou_7</th>       <td>   -0.0005</td> <td>    0.002</td> <td>   -0.243</td> <td> 0.808</td> <td>   -0.004</td> <td>    0.003</td>\n",
       "</tr>\n",
       "<tr>\n",
       "  <th>isd_ic_mou_8</th>       <td>    0.0117</td> <td>    0.003</td> <td>    4.360</td> <td> 0.000</td> <td>    0.006</td> <td>    0.017</td>\n",
       "</tr>\n",
       "<tr>\n",
       "  <th>ic_others_6</th>        <td>   -0.0171</td> <td>    0.011</td> <td>   -1.599</td> <td> 0.110</td> <td>   -0.038</td> <td>    0.004</td>\n",
       "</tr>\n",
       "<tr>\n",
       "  <th>ic_others_7</th>        <td>    0.0023</td> <td>    0.009</td> <td>    0.261</td> <td> 0.794</td> <td>   -0.015</td> <td>    0.020</td>\n",
       "</tr>\n",
       "<tr>\n",
       "  <th>ic_others_8</th>        <td>    0.0197</td> <td>    0.012</td> <td>    1.588</td> <td> 0.112</td> <td>   -0.005</td> <td>    0.044</td>\n",
       "</tr>\n",
       "<tr>\n",
       "  <th>total_rech_num_6</th>   <td>    0.0023</td> <td>    0.008</td> <td>    0.304</td> <td> 0.761</td> <td>   -0.012</td> <td>    0.017</td>\n",
       "</tr>\n",
       "<tr>\n",
       "  <th>total_rech_num_7</th>   <td>    0.0221</td> <td>    0.009</td> <td>    2.583</td> <td> 0.010</td> <td>    0.005</td> <td>    0.039</td>\n",
       "</tr>\n",
       "<tr>\n",
       "  <th>total_rech_num_8</th>   <td>   -0.0613</td> <td>    0.010</td> <td>   -6.239</td> <td> 0.000</td> <td>   -0.081</td> <td>   -0.042</td>\n",
       "</tr>\n",
       "<tr>\n",
       "  <th>total_rech_amt_6</th>   <td>-7.962e-06</td> <td>    0.000</td> <td>   -0.029</td> <td> 0.977</td> <td>   -0.001</td> <td>    0.001</td>\n",
       "</tr>\n",
       "<tr>\n",
       "  <th>total_rech_amt_7</th>   <td>   -0.0001</td> <td>    0.000</td> <td>   -0.398</td> <td> 0.690</td> <td>   -0.001</td> <td>    0.000</td>\n",
       "</tr>\n",
       "<tr>\n",
       "  <th>total_rech_amt_8</th>   <td>   -0.0004</td> <td>    0.000</td> <td>   -1.146</td> <td> 0.252</td> <td>   -0.001</td> <td>    0.000</td>\n",
       "</tr>\n",
       "<tr>\n",
       "  <th>max_rech_amt_6</th>     <td>    0.0001</td> <td>    0.000</td> <td>    0.310</td> <td> 0.757</td> <td>   -0.001</td> <td>    0.001</td>\n",
       "</tr>\n",
       "<tr>\n",
       "  <th>max_rech_amt_7</th>     <td>    0.0003</td> <td>    0.000</td> <td>    0.734</td> <td> 0.463</td> <td>   -0.001</td> <td>    0.001</td>\n",
       "</tr>\n",
       "<tr>\n",
       "  <th>max_rech_amt_8</th>     <td>    0.0013</td> <td>    0.001</td> <td>    2.589</td> <td> 0.010</td> <td>    0.000</td> <td>    0.002</td>\n",
       "</tr>\n",
       "<tr>\n",
       "  <th>last_day_rch_amt_6</th> <td>   -0.0006</td> <td>    0.000</td> <td>   -1.351</td> <td> 0.177</td> <td>   -0.001</td> <td>    0.000</td>\n",
       "</tr>\n",
       "<tr>\n",
       "  <th>last_day_rch_amt_7</th> <td>   -0.0006</td> <td>    0.000</td> <td>   -1.463</td> <td> 0.144</td> <td>   -0.001</td> <td>    0.000</td>\n",
       "</tr>\n",
       "<tr>\n",
       "  <th>last_day_rch_amt_8</th> <td>   -0.0048</td> <td>    0.001</td> <td>   -9.362</td> <td> 0.000</td> <td>   -0.006</td> <td>   -0.004</td>\n",
       "</tr>\n",
       "<tr>\n",
       "  <th>total_rech_data_6</th>  <td>    0.0713</td> <td>    0.098</td> <td>    0.731</td> <td> 0.465</td> <td>   -0.120</td> <td>    0.262</td>\n",
       "</tr>\n",
       "<tr>\n",
       "  <th>total_rech_data_7</th>  <td>    0.0015</td> <td>    0.101</td> <td>    0.014</td> <td> 0.988</td> <td>   -0.196</td> <td>    0.199</td>\n",
       "</tr>\n",
       "<tr>\n",
       "  <th>total_rech_data_8</th>  <td>   -0.1943</td> <td>    0.159</td> <td>   -1.226</td> <td> 0.220</td> <td>   -0.505</td> <td>    0.116</td>\n",
       "</tr>\n",
       "<tr>\n",
       "  <th>max_rech_data_6</th>    <td>   -0.0002</td> <td>    0.001</td> <td>   -0.162</td> <td> 0.871</td> <td>   -0.002</td> <td>    0.002</td>\n",
       "</tr>\n",
       "<tr>\n",
       "  <th>max_rech_data_7</th>    <td>    0.0006</td> <td>    0.001</td> <td>    0.479</td> <td> 0.632</td> <td>   -0.002</td> <td>    0.003</td>\n",
       "</tr>\n",
       "<tr>\n",
       "  <th>max_rech_data_8</th>    <td>   -0.0022</td> <td>    0.002</td> <td>   -1.306</td> <td> 0.191</td> <td>   -0.006</td> <td>    0.001</td>\n",
       "</tr>\n",
       "<tr>\n",
       "  <th>av_rech_amt_data_6</th> <td>   -0.0009</td> <td>    0.001</td> <td>   -1.321</td> <td> 0.187</td> <td>   -0.002</td> <td>    0.000</td>\n",
       "</tr>\n",
       "<tr>\n",
       "  <th>av_rech_amt_data_7</th> <td>   -0.0008</td> <td>    0.001</td> <td>   -1.141</td> <td> 0.254</td> <td>   -0.002</td> <td>    0.001</td>\n",
       "</tr>\n",
       "<tr>\n",
       "  <th>av_rech_amt_data_8</th> <td>   -0.0001</td> <td>    0.001</td> <td>   -0.102</td> <td> 0.919</td> <td>   -0.002</td> <td>    0.002</td>\n",
       "</tr>\n",
       "<tr>\n",
       "  <th>vol_2g_mb_6</th>        <td>    0.0003</td> <td>    0.000</td> <td>    1.397</td> <td> 0.162</td> <td>   -0.000</td> <td>    0.001</td>\n",
       "</tr>\n",
       "<tr>\n",
       "  <th>vol_2g_mb_7</th>        <td>    0.0005</td> <td>    0.000</td> <td>    2.317</td> <td> 0.021</td> <td> 8.27e-05</td> <td>    0.001</td>\n",
       "</tr>\n",
       "<tr>\n",
       "  <th>vol_2g_mb_8</th>        <td>   -0.0012</td> <td>    0.000</td> <td>   -3.290</td> <td> 0.001</td> <td>   -0.002</td> <td>   -0.000</td>\n",
       "</tr>\n",
       "<tr>\n",
       "  <th>vol_3g_mb_6</th>        <td> 2.291e-05</td> <td>    0.000</td> <td>    0.195</td> <td> 0.845</td> <td>   -0.000</td> <td>    0.000</td>\n",
       "</tr>\n",
       "<tr>\n",
       "  <th>vol_3g_mb_7</th>        <td>-5.333e-05</td> <td>    0.000</td> <td>   -0.423</td> <td> 0.672</td> <td>   -0.000</td> <td>    0.000</td>\n",
       "</tr>\n",
       "<tr>\n",
       "  <th>vol_3g_mb_8</th>        <td>   -0.0001</td> <td>    0.000</td> <td>   -0.790</td> <td> 0.430</td> <td>   -0.000</td> <td>    0.000</td>\n",
       "</tr>\n",
       "<tr>\n",
       "  <th>night_pck_user_6</th>   <td>   -0.1201</td> <td>    0.241</td> <td>   -0.498</td> <td> 0.618</td> <td>   -0.592</td> <td>    0.352</td>\n",
       "</tr>\n",
       "<tr>\n",
       "  <th>night_pck_user_7</th>   <td>   -0.5920</td> <td>    0.281</td> <td>   -2.108</td> <td> 0.035</td> <td>   -1.142</td> <td>   -0.042</td>\n",
       "</tr>\n",
       "<tr>\n",
       "  <th>night_pck_user_8</th>   <td>    0.7253</td> <td>    0.270</td> <td>    2.686</td> <td> 0.007</td> <td>    0.196</td> <td>    1.255</td>\n",
       "</tr>\n",
       "<tr>\n",
       "  <th>monthly_2g_6</th>       <td>   -0.1140</td> <td>    0.186</td> <td>   -0.613</td> <td> 0.540</td> <td>   -0.479</td> <td>    0.251</td>\n",
       "</tr>\n",
       "<tr>\n",
       "  <th>monthly_2g_7</th>       <td>   -0.0628</td> <td>    0.201</td> <td>   -0.313</td> <td> 0.754</td> <td>   -0.457</td> <td>    0.331</td>\n",
       "</tr>\n",
       "<tr>\n",
       "  <th>monthly_2g_8</th>       <td>   -0.3035</td> <td>    0.307</td> <td>   -0.988</td> <td> 0.323</td> <td>   -0.905</td> <td>    0.298</td>\n",
       "</tr>\n",
       "<tr>\n",
       "  <th>sachet_2g_6</th>        <td>   -0.0154</td> <td>    0.100</td> <td>   -0.154</td> <td> 0.878</td> <td>   -0.212</td> <td>    0.182</td>\n",
       "</tr>\n",
       "<tr>\n",
       "  <th>sachet_2g_7</th>        <td>    0.0313</td> <td>    0.103</td> <td>    0.304</td> <td> 0.761</td> <td>   -0.171</td> <td>    0.233</td>\n",
       "</tr>\n",
       "<tr>\n",
       "  <th>sachet_2g_8</th>        <td>    0.0326</td> <td>    0.164</td> <td>    0.199</td> <td> 0.842</td> <td>   -0.288</td> <td>    0.353</td>\n",
       "</tr>\n",
       "<tr>\n",
       "  <th>monthly_3g_6</th>       <td>    0.0888</td> <td>    0.180</td> <td>    0.493</td> <td> 0.622</td> <td>   -0.264</td> <td>    0.442</td>\n",
       "</tr>\n",
       "<tr>\n",
       "  <th>monthly_3g_7</th>       <td>    0.1150</td> <td>    0.190</td> <td>    0.605</td> <td> 0.545</td> <td>   -0.258</td> <td>    0.488</td>\n",
       "</tr>\n",
       "<tr>\n",
       "  <th>monthly_3g_8</th>       <td>   -0.0042</td> <td>    0.290</td> <td>   -0.014</td> <td> 0.989</td> <td>   -0.572</td> <td>    0.563</td>\n",
       "</tr>\n",
       "<tr>\n",
       "  <th>sachet_3g_6</th>        <td>    0.1006</td> <td>    0.126</td> <td>    0.797</td> <td> 0.425</td> <td>   -0.147</td> <td>    0.348</td>\n",
       "</tr>\n",
       "<tr>\n",
       "  <th>sachet_3g_7</th>        <td>    0.2766</td> <td>    0.130</td> <td>    2.124</td> <td> 0.034</td> <td>    0.021</td> <td>    0.532</td>\n",
       "</tr>\n",
       "<tr>\n",
       "  <th>sachet_3g_8</th>        <td>   -0.0196</td> <td>    0.211</td> <td>   -0.093</td> <td> 0.926</td> <td>   -0.432</td> <td>    0.393</td>\n",
       "</tr>\n",
       "<tr>\n",
       "  <th>fb_user_6</th>          <td>    0.0811</td> <td>    0.144</td> <td>    0.564</td> <td> 0.573</td> <td>   -0.201</td> <td>    0.363</td>\n",
       "</tr>\n",
       "<tr>\n",
       "  <th>fb_user_7</th>          <td>    0.1702</td> <td>    0.164</td> <td>    1.037</td> <td> 0.300</td> <td>   -0.151</td> <td>    0.492</td>\n",
       "</tr>\n",
       "<tr>\n",
       "  <th>fb_user_8</th>          <td>   -0.5842</td> <td>    0.175</td> <td>   -3.336</td> <td> 0.001</td> <td>   -0.927</td> <td>   -0.241</td>\n",
       "</tr>\n",
       "<tr>\n",
       "  <th>aon</th>                <td>   -0.0002</td> <td> 4.34e-05</td> <td>   -5.013</td> <td> 0.000</td> <td>   -0.000</td> <td>   -0.000</td>\n",
       "</tr>\n",
       "<tr>\n",
       "  <th>aug_vbc_3g</th>         <td>   -0.0006</td> <td>    0.000</td> <td>   -2.293</td> <td> 0.022</td> <td>   -0.001</td> <td>-8.09e-05</td>\n",
       "</tr>\n",
       "<tr>\n",
       "  <th>jul_vbc_3g</th>         <td>    0.0005</td> <td>    0.000</td> <td>    2.151</td> <td> 0.031</td> <td> 4.04e-05</td> <td>    0.001</td>\n",
       "</tr>\n",
       "<tr>\n",
       "  <th>jun_vbc_3g</th>         <td>    0.0002</td> <td>    0.000</td> <td>    0.828</td> <td> 0.408</td> <td>   -0.000</td> <td>    0.001</td>\n",
       "</tr>\n",
       "<tr>\n",
       "  <th>sep_vbc_3g</th>         <td>   -0.0404</td> <td>    0.009</td> <td>   -4.465</td> <td> 0.000</td> <td>   -0.058</td> <td>   -0.023</td>\n",
       "</tr>\n",
       "<tr>\n",
       "  <th>arpu_diff</th>          <td>   -0.0002</td> <td>    0.000</td> <td>   -0.744</td> <td> 0.457</td> <td>   -0.001</td> <td>    0.000</td>\n",
       "</tr>\n",
       "<tr>\n",
       "  <th>onnet_mou_diff</th>     <td>    0.0004</td> <td>    0.000</td> <td>    1.646</td> <td> 0.100</td> <td>-7.98e-05</td> <td>    0.001</td>\n",
       "</tr>\n",
       "<tr>\n",
       "  <th>offnet_mou_diff</th>    <td>   -0.0002</td> <td>    0.000</td> <td>   -0.675</td> <td> 0.500</td> <td>   -0.001</td> <td>    0.000</td>\n",
       "</tr>\n",
       "<tr>\n",
       "  <th>roam_ic_mou_diff</th>   <td>   -0.0018</td> <td>    0.001</td> <td>   -2.866</td> <td> 0.004</td> <td>   -0.003</td> <td>   -0.001</td>\n",
       "</tr>\n",
       "<tr>\n",
       "  <th>roam_og_mou_diff</th>   <td>    0.0004</td> <td>    0.001</td> <td>    0.684</td> <td> 0.494</td> <td>   -0.001</td> <td>    0.001</td>\n",
       "</tr>\n",
       "<tr>\n",
       "  <th>total_rech_amnt</th>    <td> 4.221e-05</td> <td> 7.99e-05</td> <td>    0.528</td> <td> 0.597</td> <td>   -0.000</td> <td>    0.000</td>\n",
       "</tr>\n",
       "<tr>\n",
       "  <th>total_og_mou</th>       <td>    0.0001</td> <td> 8.03e-05</td> <td>    1.366</td> <td> 0.172</td> <td>-4.78e-05</td> <td>    0.000</td>\n",
       "</tr>\n",
       "<tr>\n",
       "  <th>total_ic_mou</th>       <td> 9.432e-05</td> <td>    0.000</td> <td>    0.594</td> <td> 0.553</td> <td>   -0.000</td> <td>    0.000</td>\n",
       "</tr>\n",
       "<tr>\n",
       "  <th>total_og_t2c</th>       <td>   -0.0004</td> <td>    0.002</td> <td>   -0.177</td> <td> 0.859</td> <td>   -0.005</td> <td>    0.004</td>\n",
       "</tr>\n",
       "</table>"
      ],
      "text/plain": [
       "<class 'statsmodels.iolib.summary.Summary'>\n",
       "\"\"\"\n",
       "                 Generalized Linear Model Regression Results                  \n",
       "==============================================================================\n",
       "Dep. Variable:                  churn   No. Observations:                22500\n",
       "Model:                            GLM   Df Residuals:                    22350\n",
       "Model Family:                Binomial   Df Model:                          149\n",
       "Link Function:                  logit   Scale:                          1.0000\n",
       "Method:                          IRLS   Log-Likelihood:                -3726.6\n",
       "Date:                Sat, 27 Feb 2021   Deviance:                       7453.2\n",
       "Time:                        14:13:41   Pearson chi2:                 3.09e+07\n",
       "No. Iterations:                    10                                         \n",
       "Covariance Type:            nonrobust                                         \n",
       "======================================================================================\n",
       "                         coef    std err          z      P>|z|      [0.025      0.975]\n",
       "--------------------------------------------------------------------------------------\n",
       "const                 -1.7290      0.222     -7.794      0.000      -2.164      -1.294\n",
       "arpu_6                 0.0003      0.000      0.739      0.460      -0.000       0.001\n",
       "arpu_7                 0.0002      0.000      0.661      0.509      -0.000       0.001\n",
       "arpu_8                 0.0012      0.000      2.557      0.011       0.000       0.002\n",
       "onnet_mou_6            0.0010      0.001      1.707      0.088      -0.000       0.002\n",
       "onnet_mou_7            0.0009      0.001      1.409      0.159      -0.000       0.002\n",
       "onnet_mou_8           -0.0012      0.001     -1.349      0.177      -0.003       0.001\n",
       "offnet_mou_6           0.0005      0.000      0.947      0.343      -0.001       0.001\n",
       "offnet_mou_7           0.0009      0.001      1.621      0.105      -0.000       0.002\n",
       "offnet_mou_8          -0.0008      0.001     -1.148      0.251      -0.002       0.001\n",
       "roam_ic_mou_6         -0.0014      0.001     -1.016      0.310      -0.004       0.001\n",
       "roam_ic_mou_7          0.0020      0.002      1.276      0.202      -0.001       0.005\n",
       "roam_ic_mou_8          0.0010      0.002      0.661      0.509      -0.002       0.004\n",
       "roam_og_mou_6          0.0002      0.001      0.251      0.802      -0.002       0.002\n",
       "roam_og_mou_7         -0.0004      0.001     -0.403      0.687      -0.003       0.002\n",
       "roam_og_mou_8          0.0024      0.001      2.461      0.014       0.000       0.004\n",
       "loc_og_t2t_mou_6       0.0014      0.001      1.108      0.268      -0.001       0.004\n",
       "loc_og_t2t_mou_7       0.0019      0.001      1.291      0.197      -0.001       0.005\n",
       "loc_og_t2t_mou_8      -0.0074      0.002     -3.848      0.000      -0.011      -0.004\n",
       "loc_og_t2m_mou_6       0.0010      0.001      0.890      0.373      -0.001       0.003\n",
       "loc_og_t2m_mou_7       0.0010      0.001      0.722      0.470      -0.002       0.004\n",
       "loc_og_t2m_mou_8      -0.0072      0.002     -4.158      0.000      -0.011      -0.004\n",
       "loc_og_t2f_mou_6      -0.0036      0.005     -0.668      0.504      -0.014       0.007\n",
       "loc_og_t2f_mou_7      -0.0084      0.006     -1.328      0.184      -0.021       0.004\n",
       "loc_og_t2f_mou_8       0.0038      0.007      0.551      0.582      -0.010       0.017\n",
       "loc_og_t2c_mou_6      -0.0011      0.011     -0.099      0.921      -0.023       0.021\n",
       "loc_og_t2c_mou_7      -0.0080      0.010     -0.792      0.429      -0.028       0.012\n",
       "loc_og_t2c_mou_8       0.0131      0.013      1.021      0.307      -0.012       0.038\n",
       "loc_og_mou_6          -0.0018      0.001     -1.433      0.152      -0.004       0.001\n",
       "loc_og_mou_7          -0.0026      0.001     -1.844      0.065      -0.005       0.000\n",
       "loc_og_mou_8           0.0120      0.002      6.322      0.000       0.008       0.016\n",
       "std_og_t2t_mou_6    9.015e-06      0.001      0.015      0.988      -0.001       0.001\n",
       "std_og_t2t_mou_7      -0.0010      0.001     -1.469      0.142      -0.002       0.000\n",
       "std_og_t2t_mou_8      -0.0019      0.001     -2.120      0.034      -0.004      -0.000\n",
       "std_og_t2m_mou_6       0.0001      0.001      0.252      0.801      -0.001       0.001\n",
       "std_og_t2m_mou_7      -0.0011      0.001     -1.689      0.091      -0.002       0.000\n",
       "std_og_t2m_mou_8      -0.0021      0.001     -2.664      0.008      -0.004      -0.001\n",
       "std_og_t2f_mou_6      -0.0051      0.010     -0.508      0.611      -0.025       0.015\n",
       "std_og_t2f_mou_7       0.0010      0.011      0.089      0.929      -0.020       0.022\n",
       "std_og_t2f_mou_8      -0.0269      0.016     -1.635      0.102      -0.059       0.005\n",
       "std_og_mou_6          -0.0003      0.001     -0.471      0.638      -0.001       0.001\n",
       "std_og_mou_7          -0.0003      0.001     -0.429      0.668      -0.002       0.001\n",
       "std_og_mou_8           0.0079      0.001      6.832      0.000       0.006       0.010\n",
       "isd_og_mou_6          -0.0011      0.004     -0.291      0.771      -0.009       0.007\n",
       "isd_og_mou_7           0.0045      0.005      0.823      0.410      -0.006       0.015\n",
       "isd_og_mou_8          -0.0019      0.006     -0.294      0.769      -0.014       0.011\n",
       "spl_og_mou_6          -0.0008      0.004     -0.196      0.845      -0.008       0.007\n",
       "spl_og_mou_7           0.0024      0.004      0.626      0.531      -0.005       0.010\n",
       "spl_og_mou_8       -4.696e-05      0.005     -0.009      0.993      -0.010       0.010\n",
       "og_others_6           -0.0212      0.019     -1.125      0.261      -0.058       0.016\n",
       "og_others_7            0.1598      0.161      0.991      0.322      -0.156       0.476\n",
       "og_others_8           -1.0366      1.087     -0.953      0.340      -3.168       1.095\n",
       "total_og_mou_6        -0.0002      0.000     -0.488      0.626      -0.001       0.001\n",
       "total_og_mou_7         0.0004      0.000      0.911      0.362      -0.001       0.001\n",
       "total_og_mou_8        -0.0064      0.001     -6.628      0.000      -0.008      -0.004\n",
       "loc_ic_t2t_mou_6       0.0030      0.002      1.977      0.048    2.64e-05       0.006\n",
       "loc_ic_t2t_mou_7      -0.0002      0.002     -0.106      0.915      -0.003       0.003\n",
       "loc_ic_t2t_mou_8      -0.0075      0.003     -2.993      0.003      -0.012      -0.003\n",
       "loc_ic_t2m_mou_6       0.0035      0.001      2.620      0.009       0.001       0.006\n",
       "loc_ic_t2m_mou_7       0.0003      0.001      0.195      0.845      -0.003       0.003\n",
       "loc_ic_t2m_mou_8      -0.0078      0.002     -3.688      0.000      -0.012      -0.004\n",
       "loc_ic_t2f_mou_6       0.0020      0.003      0.689      0.491      -0.004       0.008\n",
       "loc_ic_t2f_mou_7       0.0030      0.003      0.963      0.336      -0.003       0.009\n",
       "loc_ic_t2f_mou_8      -0.0147      0.005     -3.222      0.001      -0.024      -0.006\n",
       "loc_ic_mou_6          -0.0033      0.001     -2.201      0.028      -0.006      -0.000\n",
       "loc_ic_mou_7           0.0011      0.002      0.691      0.490      -0.002       0.004\n",
       "loc_ic_mou_8           0.0119      0.003      4.646      0.000       0.007       0.017\n",
       "std_ic_t2t_mou_6      -0.0017      0.003     -0.518      0.605      -0.008       0.005\n",
       "std_ic_t2t_mou_7      -0.0013      0.003     -0.417      0.677      -0.008       0.005\n",
       "std_ic_t2t_mou_8      -0.0025      0.005     -0.486      0.627      -0.013       0.008\n",
       "std_ic_t2m_mou_6       0.0017      0.003      0.583      0.560      -0.004       0.007\n",
       "std_ic_t2m_mou_7      -0.0054      0.003     -1.757      0.079      -0.011       0.001\n",
       "std_ic_t2m_mou_8      -0.0015      0.005     -0.336      0.737      -0.010       0.007\n",
       "std_ic_t2f_mou_6       0.0032      0.008      0.411      0.681      -0.012       0.018\n",
       "std_ic_t2f_mou_7      -0.0001      0.009     -0.017      0.986      -0.017       0.017\n",
       "std_ic_t2f_mou_8      -0.0014      0.011     -0.127      0.899      -0.023       0.020\n",
       "std_ic_mou_6           0.0008      0.003      0.264      0.792      -0.005       0.006\n",
       "std_ic_mou_7           0.0030      0.003      1.024      0.306      -0.003       0.009\n",
       "std_ic_mou_8           0.0075      0.005      1.650      0.099      -0.001       0.016\n",
       "total_ic_mou_6         0.0004      0.001      0.516      0.606      -0.001       0.002\n",
       "total_ic_mou_7         0.0004      0.001      0.407      0.684      -0.001       0.002\n",
       "total_ic_mou_8        -0.0094      0.001     -6.292      0.000      -0.012      -0.006\n",
       "spl_ic_mou_6           0.0852      0.236      0.361      0.718      -0.377       0.547\n",
       "spl_ic_mou_7           0.1348      0.438      0.308      0.758      -0.724       0.993\n",
       "spl_ic_mou_8          -5.8516      0.897     -6.526      0.000      -7.609      -4.094\n",
       "isd_ic_mou_6           0.0011      0.002      0.617      0.537      -0.002       0.005\n",
       "isd_ic_mou_7          -0.0005      0.002     -0.243      0.808      -0.004       0.003\n",
       "isd_ic_mou_8           0.0117      0.003      4.360      0.000       0.006       0.017\n",
       "ic_others_6           -0.0171      0.011     -1.599      0.110      -0.038       0.004\n",
       "ic_others_7            0.0023      0.009      0.261      0.794      -0.015       0.020\n",
       "ic_others_8            0.0197      0.012      1.588      0.112      -0.005       0.044\n",
       "total_rech_num_6       0.0023      0.008      0.304      0.761      -0.012       0.017\n",
       "total_rech_num_7       0.0221      0.009      2.583      0.010       0.005       0.039\n",
       "total_rech_num_8      -0.0613      0.010     -6.239      0.000      -0.081      -0.042\n",
       "total_rech_amt_6   -7.962e-06      0.000     -0.029      0.977      -0.001       0.001\n",
       "total_rech_amt_7      -0.0001      0.000     -0.398      0.690      -0.001       0.000\n",
       "total_rech_amt_8      -0.0004      0.000     -1.146      0.252      -0.001       0.000\n",
       "max_rech_amt_6         0.0001      0.000      0.310      0.757      -0.001       0.001\n",
       "max_rech_amt_7         0.0003      0.000      0.734      0.463      -0.001       0.001\n",
       "max_rech_amt_8         0.0013      0.001      2.589      0.010       0.000       0.002\n",
       "last_day_rch_amt_6    -0.0006      0.000     -1.351      0.177      -0.001       0.000\n",
       "last_day_rch_amt_7    -0.0006      0.000     -1.463      0.144      -0.001       0.000\n",
       "last_day_rch_amt_8    -0.0048      0.001     -9.362      0.000      -0.006      -0.004\n",
       "total_rech_data_6      0.0713      0.098      0.731      0.465      -0.120       0.262\n",
       "total_rech_data_7      0.0015      0.101      0.014      0.988      -0.196       0.199\n",
       "total_rech_data_8     -0.1943      0.159     -1.226      0.220      -0.505       0.116\n",
       "max_rech_data_6       -0.0002      0.001     -0.162      0.871      -0.002       0.002\n",
       "max_rech_data_7        0.0006      0.001      0.479      0.632      -0.002       0.003\n",
       "max_rech_data_8       -0.0022      0.002     -1.306      0.191      -0.006       0.001\n",
       "av_rech_amt_data_6    -0.0009      0.001     -1.321      0.187      -0.002       0.000\n",
       "av_rech_amt_data_7    -0.0008      0.001     -1.141      0.254      -0.002       0.001\n",
       "av_rech_amt_data_8    -0.0001      0.001     -0.102      0.919      -0.002       0.002\n",
       "vol_2g_mb_6            0.0003      0.000      1.397      0.162      -0.000       0.001\n",
       "vol_2g_mb_7            0.0005      0.000      2.317      0.021    8.27e-05       0.001\n",
       "vol_2g_mb_8           -0.0012      0.000     -3.290      0.001      -0.002      -0.000\n",
       "vol_3g_mb_6         2.291e-05      0.000      0.195      0.845      -0.000       0.000\n",
       "vol_3g_mb_7        -5.333e-05      0.000     -0.423      0.672      -0.000       0.000\n",
       "vol_3g_mb_8           -0.0001      0.000     -0.790      0.430      -0.000       0.000\n",
       "night_pck_user_6      -0.1201      0.241     -0.498      0.618      -0.592       0.352\n",
       "night_pck_user_7      -0.5920      0.281     -2.108      0.035      -1.142      -0.042\n",
       "night_pck_user_8       0.7253      0.270      2.686      0.007       0.196       1.255\n",
       "monthly_2g_6          -0.1140      0.186     -0.613      0.540      -0.479       0.251\n",
       "monthly_2g_7          -0.0628      0.201     -0.313      0.754      -0.457       0.331\n",
       "monthly_2g_8          -0.3035      0.307     -0.988      0.323      -0.905       0.298\n",
       "sachet_2g_6           -0.0154      0.100     -0.154      0.878      -0.212       0.182\n",
       "sachet_2g_7            0.0313      0.103      0.304      0.761      -0.171       0.233\n",
       "sachet_2g_8            0.0326      0.164      0.199      0.842      -0.288       0.353\n",
       "monthly_3g_6           0.0888      0.180      0.493      0.622      -0.264       0.442\n",
       "monthly_3g_7           0.1150      0.190      0.605      0.545      -0.258       0.488\n",
       "monthly_3g_8          -0.0042      0.290     -0.014      0.989      -0.572       0.563\n",
       "sachet_3g_6            0.1006      0.126      0.797      0.425      -0.147       0.348\n",
       "sachet_3g_7            0.2766      0.130      2.124      0.034       0.021       0.532\n",
       "sachet_3g_8           -0.0196      0.211     -0.093      0.926      -0.432       0.393\n",
       "fb_user_6              0.0811      0.144      0.564      0.573      -0.201       0.363\n",
       "fb_user_7              0.1702      0.164      1.037      0.300      -0.151       0.492\n",
       "fb_user_8             -0.5842      0.175     -3.336      0.001      -0.927      -0.241\n",
       "aon                   -0.0002   4.34e-05     -5.013      0.000      -0.000      -0.000\n",
       "aug_vbc_3g            -0.0006      0.000     -2.293      0.022      -0.001   -8.09e-05\n",
       "jul_vbc_3g             0.0005      0.000      2.151      0.031    4.04e-05       0.001\n",
       "jun_vbc_3g             0.0002      0.000      0.828      0.408      -0.000       0.001\n",
       "sep_vbc_3g            -0.0404      0.009     -4.465      0.000      -0.058      -0.023\n",
       "arpu_diff             -0.0002      0.000     -0.744      0.457      -0.001       0.000\n",
       "onnet_mou_diff         0.0004      0.000      1.646      0.100   -7.98e-05       0.001\n",
       "offnet_mou_diff       -0.0002      0.000     -0.675      0.500      -0.001       0.000\n",
       "roam_ic_mou_diff      -0.0018      0.001     -2.866      0.004      -0.003      -0.001\n",
       "roam_og_mou_diff       0.0004      0.001      0.684      0.494      -0.001       0.001\n",
       "total_rech_amnt     4.221e-05   7.99e-05      0.528      0.597      -0.000       0.000\n",
       "total_og_mou           0.0001   8.03e-05      1.366      0.172   -4.78e-05       0.000\n",
       "total_ic_mou        9.432e-05      0.000      0.594      0.553      -0.000       0.000\n",
       "total_og_t2c          -0.0004      0.002     -0.177      0.859      -0.005       0.004\n",
       "======================================================================================\n",
       "\"\"\""
      ]
     },
     "execution_count": 56,
     "metadata": {},
     "output_type": "execute_result"
    }
   ],
   "source": [
    "# Logistic regression model\n",
    "logm1 = sm.GLM(y_train,(sm.add_constant(X_train)), family = sm.families.Binomial())\n",
    "logm1.fit().summary()"
   ]
  },
  {
   "cell_type": "markdown",
   "metadata": {},
   "source": [
    "#### Feature Selection Using RFE"
   ]
  },
  {
   "cell_type": "code",
   "execution_count": 57,
   "metadata": {},
   "outputs": [],
   "source": [
    "from sklearn.linear_model import LogisticRegression\n",
    "logreg = LogisticRegression()"
   ]
  },
  {
   "cell_type": "code",
   "execution_count": 58,
   "metadata": {},
   "outputs": [],
   "source": [
    "from sklearn.feature_selection import RFE\n",
    "rfe = RFE(logreg, 15)            \n",
    "rfe = rfe.fit(X_train, y_train)"
   ]
  },
  {
   "cell_type": "code",
   "execution_count": 59,
   "metadata": {},
   "outputs": [
    {
     "data": {
      "text/plain": [
       "array([False, False, False, False, False, False, False, False, False,\n",
       "       False, False, False, False, False, False, False, False, False,\n",
       "       False, False, False, False, False, False, False, False, False,\n",
       "       False, False, False, False, False, False, False, False, False,\n",
       "       False, False,  True, False, False, False, False,  True, False,\n",
       "       False, False, False, False, False, False, False, False, False,\n",
       "       False, False, False, False, False, False, False, False, False,\n",
       "       False, False, False, False, False, False, False, False, False,\n",
       "       False, False, False, False, False, False, False, False,  True,\n",
       "       False, False, False, False, False,  True, False, False,  True,\n",
       "       False,  True,  True, False, False, False, False, False, False,\n",
       "       False, False, False,  True,  True,  True, False, False, False,\n",
       "       False, False, False, False, False, False, False, False, False,\n",
       "        True, False,  True, False, False, False, False,  True,  True,\n",
       "       False, False, False, False, False, False, False, False, False,\n",
       "       False, False, False, False,  True, False, False, False, False,\n",
       "       False, False, False, False, False])"
      ]
     },
     "execution_count": 59,
     "metadata": {},
     "output_type": "execute_result"
    }
   ],
   "source": [
    "rfe.support_"
   ]
  },
  {
   "cell_type": "code",
   "execution_count": 60,
   "metadata": {},
   "outputs": [
    {
     "data": {
      "text/plain": [
       "Index(['arpu_6', 'arpu_7', 'arpu_8', 'onnet_mou_6', 'onnet_mou_7',\n",
       "       'onnet_mou_8', 'offnet_mou_6', 'offnet_mou_7', 'offnet_mou_8',\n",
       "       'roam_ic_mou_6',\n",
       "       ...\n",
       "       'jun_vbc_3g', 'arpu_diff', 'onnet_mou_diff', 'offnet_mou_diff',\n",
       "       'roam_ic_mou_diff', 'roam_og_mou_diff', 'total_rech_amnt',\n",
       "       'total_og_mou', 'total_ic_mou', 'total_og_t2c'],\n",
       "      dtype='object', length=134)"
      ]
     },
     "execution_count": 60,
     "metadata": {},
     "output_type": "execute_result"
    }
   ],
   "source": [
    "col = X_train.columns[rfe.support_]\n",
    "X_train.columns[~rfe.support_]"
   ]
  },
  {
   "cell_type": "markdown",
   "metadata": {},
   "source": [
    "##### Assessing the model with StatsModels"
   ]
  },
  {
   "cell_type": "code",
   "execution_count": 62,
   "metadata": {},
   "outputs": [
    {
     "data": {
      "text/html": [
       "<table class=\"simpletable\">\n",
       "<caption>Generalized Linear Model Regression Results</caption>\n",
       "<tr>\n",
       "  <th>Dep. Variable:</th>         <td>churn</td>      <th>  No. Observations:  </th>  <td> 22500</td> \n",
       "</tr>\n",
       "<tr>\n",
       "  <th>Model:</th>                  <td>GLM</td>       <th>  Df Residuals:      </th>  <td> 22484</td> \n",
       "</tr>\n",
       "<tr>\n",
       "  <th>Model Family:</th>        <td>Binomial</td>     <th>  Df Model:          </th>  <td>    15</td> \n",
       "</tr>\n",
       "<tr>\n",
       "  <th>Link Function:</th>         <td>logit</td>      <th>  Scale:             </th> <td>  1.0000</td>\n",
       "</tr>\n",
       "<tr>\n",
       "  <th>Method:</th>                <td>IRLS</td>       <th>  Log-Likelihood:    </th> <td> -4497.3</td>\n",
       "</tr>\n",
       "<tr>\n",
       "  <th>Date:</th>            <td>Sat, 27 Feb 2021</td> <th>  Deviance:          </th> <td>  8994.6</td>\n",
       "</tr>\n",
       "<tr>\n",
       "  <th>Time:</th>                <td>14:15:27</td>     <th>  Pearson chi2:      </th> <td>2.27e+06</td>\n",
       "</tr>\n",
       "<tr>\n",
       "  <th>No. Iterations:</th>         <td>10</td>        <th>                     </th>     <td> </td>   \n",
       "</tr>\n",
       "<tr>\n",
       "  <th>Covariance Type:</th>     <td>nonrobust</td>    <th>                     </th>     <td> </td>   \n",
       "</tr>\n",
       "</table>\n",
       "<table class=\"simpletable\">\n",
       "<tr>\n",
       "          <td></td>             <th>coef</th>     <th>std err</th>      <th>z</th>      <th>P>|z|</th>  <th>[0.025</th>    <th>0.975]</th>  \n",
       "</tr>\n",
       "<tr>\n",
       "  <th>const</th>             <td>   -1.6251</td> <td>    0.117</td> <td>  -13.895</td> <td> 0.000</td> <td>   -1.854</td> <td>   -1.396</td>\n",
       "</tr>\n",
       "<tr>\n",
       "  <th>std_og_t2f_mou_8</th>  <td>   -0.0130</td> <td>    0.010</td> <td>   -1.347</td> <td> 0.178</td> <td>   -0.032</td> <td>    0.006</td>\n",
       "</tr>\n",
       "<tr>\n",
       "  <th>isd_og_mou_7</th>      <td>    0.0056</td> <td>    0.002</td> <td>    2.266</td> <td> 0.023</td> <td>    0.001</td> <td>    0.010</td>\n",
       "</tr>\n",
       "<tr>\n",
       "  <th>total_ic_mou_8</th>    <td>   -0.0080</td> <td>    0.000</td> <td>  -24.651</td> <td> 0.000</td> <td>   -0.009</td> <td>   -0.007</td>\n",
       "</tr>\n",
       "<tr>\n",
       "  <th>isd_ic_mou_8</th>      <td>    0.0127</td> <td>    0.001</td> <td>    9.043</td> <td> 0.000</td> <td>    0.010</td> <td>    0.015</td>\n",
       "</tr>\n",
       "<tr>\n",
       "  <th>ic_others_8</th>       <td>    0.0269</td> <td>    0.010</td> <td>    2.778</td> <td> 0.005</td> <td>    0.008</td> <td>    0.046</td>\n",
       "</tr>\n",
       "<tr>\n",
       "  <th>total_rech_num_7</th>  <td>    0.0627</td> <td>    0.005</td> <td>   13.529</td> <td> 0.000</td> <td>    0.054</td> <td>    0.072</td>\n",
       "</tr>\n",
       "<tr>\n",
       "  <th>total_rech_num_8</th>  <td>   -0.1272</td> <td>    0.007</td> <td>  -18.360</td> <td> 0.000</td> <td>   -0.141</td> <td>   -0.114</td>\n",
       "</tr>\n",
       "<tr>\n",
       "  <th>total_rech_data_6</th> <td>    0.0933</td> <td>    0.018</td> <td>    5.188</td> <td> 0.000</td> <td>    0.058</td> <td>    0.129</td>\n",
       "</tr>\n",
       "<tr>\n",
       "  <th>total_rech_data_7</th> <td>   -0.0174</td> <td>    0.038</td> <td>   -0.458</td> <td> 0.647</td> <td>   -0.092</td> <td>    0.057</td>\n",
       "</tr>\n",
       "<tr>\n",
       "  <th>total_rech_data_8</th> <td>   -0.4575</td> <td>    0.086</td> <td>   -5.298</td> <td> 0.000</td> <td>   -0.627</td> <td>   -0.288</td>\n",
       "</tr>\n",
       "<tr>\n",
       "  <th>night_pck_user_6</th>  <td>   -0.0446</td> <td>    0.078</td> <td>   -0.574</td> <td> 0.566</td> <td>   -0.197</td> <td>    0.107</td>\n",
       "</tr>\n",
       "<tr>\n",
       "  <th>night_pck_user_8</th>  <td>   -0.9081</td> <td>    0.109</td> <td>   -8.298</td> <td> 0.000</td> <td>   -1.123</td> <td>   -0.694</td>\n",
       "</tr>\n",
       "<tr>\n",
       "  <th>sachet_2g_7</th>       <td>   -0.0453</td> <td>    0.043</td> <td>   -1.060</td> <td> 0.289</td> <td>   -0.129</td> <td>    0.038</td>\n",
       "</tr>\n",
       "<tr>\n",
       "  <th>sachet_2g_8</th>       <td>    0.3822</td> <td>    0.084</td> <td>    4.548</td> <td> 0.000</td> <td>    0.217</td> <td>    0.547</td>\n",
       "</tr>\n",
       "<tr>\n",
       "  <th>sep_vbc_3g</th>        <td>   -0.0406</td> <td>    0.009</td> <td>   -4.682</td> <td> 0.000</td> <td>   -0.058</td> <td>   -0.024</td>\n",
       "</tr>\n",
       "</table>"
      ],
      "text/plain": [
       "<class 'statsmodels.iolib.summary.Summary'>\n",
       "\"\"\"\n",
       "                 Generalized Linear Model Regression Results                  \n",
       "==============================================================================\n",
       "Dep. Variable:                  churn   No. Observations:                22500\n",
       "Model:                            GLM   Df Residuals:                    22484\n",
       "Model Family:                Binomial   Df Model:                           15\n",
       "Link Function:                  logit   Scale:                          1.0000\n",
       "Method:                          IRLS   Log-Likelihood:                -4497.3\n",
       "Date:                Sat, 27 Feb 2021   Deviance:                       8994.6\n",
       "Time:                        14:15:27   Pearson chi2:                 2.27e+06\n",
       "No. Iterations:                    10                                         \n",
       "Covariance Type:            nonrobust                                         \n",
       "=====================================================================================\n",
       "                        coef    std err          z      P>|z|      [0.025      0.975]\n",
       "-------------------------------------------------------------------------------------\n",
       "const                -1.6251      0.117    -13.895      0.000      -1.854      -1.396\n",
       "std_og_t2f_mou_8     -0.0130      0.010     -1.347      0.178      -0.032       0.006\n",
       "isd_og_mou_7          0.0056      0.002      2.266      0.023       0.001       0.010\n",
       "total_ic_mou_8       -0.0080      0.000    -24.651      0.000      -0.009      -0.007\n",
       "isd_ic_mou_8          0.0127      0.001      9.043      0.000       0.010       0.015\n",
       "ic_others_8           0.0269      0.010      2.778      0.005       0.008       0.046\n",
       "total_rech_num_7      0.0627      0.005     13.529      0.000       0.054       0.072\n",
       "total_rech_num_8     -0.1272      0.007    -18.360      0.000      -0.141      -0.114\n",
       "total_rech_data_6     0.0933      0.018      5.188      0.000       0.058       0.129\n",
       "total_rech_data_7    -0.0174      0.038     -0.458      0.647      -0.092       0.057\n",
       "total_rech_data_8    -0.4575      0.086     -5.298      0.000      -0.627      -0.288\n",
       "night_pck_user_6     -0.0446      0.078     -0.574      0.566      -0.197       0.107\n",
       "night_pck_user_8     -0.9081      0.109     -8.298      0.000      -1.123      -0.694\n",
       "sachet_2g_7          -0.0453      0.043     -1.060      0.289      -0.129       0.038\n",
       "sachet_2g_8           0.3822      0.084      4.548      0.000       0.217       0.547\n",
       "sep_vbc_3g           -0.0406      0.009     -4.682      0.000      -0.058      -0.024\n",
       "=====================================================================================\n",
       "\"\"\""
      ]
     },
     "execution_count": 62,
     "metadata": {},
     "output_type": "execute_result"
    }
   ],
   "source": [
    "X_train_sm = sm.add_constant(X_train[col])\n",
    "logm2 = sm.GLM(y_train,X_train_sm, family = sm.families.Binomial())\n",
    "res = logm2.fit()\n",
    "res.summary()"
   ]
  },
  {
   "cell_type": "code",
   "execution_count": 63,
   "metadata": {
    "scrolled": true
   },
   "outputs": [],
   "source": [
    "# Getting the predicted values on the train set\n",
    "y_train_pred = res.predict(X_train_sm)\n",
    "y_train_pred = y_train_pred.values.reshape(-1)\n",
    "y_train_pred_final = pd.DataFrame({'Churn':y_train.values, 'Churn_Prob':y_train_pred})"
   ]
  },
  {
   "cell_type": "code",
   "execution_count": 64,
   "metadata": {},
   "outputs": [
    {
     "data": {
      "text/html": [
       "<div>\n",
       "<style scoped>\n",
       "    .dataframe tbody tr th:only-of-type {\n",
       "        vertical-align: middle;\n",
       "    }\n",
       "\n",
       "    .dataframe tbody tr th {\n",
       "        vertical-align: top;\n",
       "    }\n",
       "\n",
       "    .dataframe thead th {\n",
       "        text-align: right;\n",
       "    }\n",
       "</style>\n",
       "<table border=\"1\" class=\"dataframe\">\n",
       "  <thead>\n",
       "    <tr style=\"text-align: right;\">\n",
       "      <th></th>\n",
       "      <th>Churn</th>\n",
       "      <th>Churn_Prob</th>\n",
       "      <th>predicted</th>\n",
       "    </tr>\n",
       "  </thead>\n",
       "  <tbody>\n",
       "    <tr>\n",
       "      <th>0</th>\n",
       "      <td>0</td>\n",
       "      <td>0.076871</td>\n",
       "      <td>0</td>\n",
       "    </tr>\n",
       "    <tr>\n",
       "      <th>1</th>\n",
       "      <td>0</td>\n",
       "      <td>0.015109</td>\n",
       "      <td>0</td>\n",
       "    </tr>\n",
       "    <tr>\n",
       "      <th>2</th>\n",
       "      <td>1</td>\n",
       "      <td>0.365745</td>\n",
       "      <td>0</td>\n",
       "    </tr>\n",
       "    <tr>\n",
       "      <th>3</th>\n",
       "      <td>0</td>\n",
       "      <td>0.072543</td>\n",
       "      <td>0</td>\n",
       "    </tr>\n",
       "    <tr>\n",
       "      <th>4</th>\n",
       "      <td>0</td>\n",
       "      <td>0.001133</td>\n",
       "      <td>0</td>\n",
       "    </tr>\n",
       "    <tr>\n",
       "      <th>...</th>\n",
       "      <td>...</td>\n",
       "      <td>...</td>\n",
       "      <td>...</td>\n",
       "    </tr>\n",
       "    <tr>\n",
       "      <th>22495</th>\n",
       "      <td>0</td>\n",
       "      <td>0.081494</td>\n",
       "      <td>0</td>\n",
       "    </tr>\n",
       "    <tr>\n",
       "      <th>22496</th>\n",
       "      <td>0</td>\n",
       "      <td>0.009089</td>\n",
       "      <td>0</td>\n",
       "    </tr>\n",
       "    <tr>\n",
       "      <th>22497</th>\n",
       "      <td>1</td>\n",
       "      <td>0.379347</td>\n",
       "      <td>0</td>\n",
       "    </tr>\n",
       "    <tr>\n",
       "      <th>22498</th>\n",
       "      <td>0</td>\n",
       "      <td>0.014472</td>\n",
       "      <td>0</td>\n",
       "    </tr>\n",
       "    <tr>\n",
       "      <th>22499</th>\n",
       "      <td>0</td>\n",
       "      <td>0.001151</td>\n",
       "      <td>0</td>\n",
       "    </tr>\n",
       "  </tbody>\n",
       "</table>\n",
       "<p>22500 rows × 3 columns</p>\n",
       "</div>"
      ],
      "text/plain": [
       "      Churn  Churn_Prob  predicted\n",
       "0         0    0.076871          0\n",
       "1         0    0.015109          0\n",
       "2         1    0.365745          0\n",
       "3         0    0.072543          0\n",
       "4         0    0.001133          0\n",
       "...     ...         ...        ...\n",
       "22495     0    0.081494          0\n",
       "22496     0    0.009089          0\n",
       "22497     1    0.379347          0\n",
       "22498     0    0.014472          0\n",
       "22499     0    0.001151          0\n",
       "\n",
       "[22500 rows x 3 columns]"
      ]
     },
     "execution_count": 64,
     "metadata": {},
     "output_type": "execute_result"
    }
   ],
   "source": [
    "#Create a new column \"predicted\"\n",
    "y_train_pred_final['predicted'] = y_train_pred_final['Churn_Prob'].apply(lambda x: 1 if x > 0.5 else 0)\n",
    "\n",
    "# Let's see the head\n",
    "y_train_pred_final"
   ]
  },
  {
   "cell_type": "code",
   "execution_count": 65,
   "metadata": {},
   "outputs": [],
   "source": [
    "from sklearn import metrics"
   ]
  },
  {
   "cell_type": "code",
   "execution_count": 66,
   "metadata": {},
   "outputs": [
    {
     "name": "stdout",
     "output_type": "stream",
     "text": [
      "[[20551   118]\n",
      " [ 1549   282]]\n"
     ]
    }
   ],
   "source": [
    "# Confusion matrix \n",
    "confusion = metrics.confusion_matrix(y_train_pred_final.Churn, y_train_pred_final.predicted )\n",
    "print(confusion)"
   ]
  },
  {
   "cell_type": "code",
   "execution_count": 67,
   "metadata": {},
   "outputs": [],
   "source": [
    "TP = confusion[1][1]\n",
    "TN = confusion[0][0]\n",
    "FP = confusion[0][1]\n",
    "FN = confusion[1][0]"
   ]
  },
  {
   "cell_type": "code",
   "execution_count": 68,
   "metadata": {},
   "outputs": [],
   "source": [
    "# calculate accuracy\n",
    "conf_accuracy = (float (TP+TN) / float(TP + TN + FP + FN))\n",
    "    \n",
    "# calculate the sensitivity\n",
    "conf_sensitivity = (TP / float(TP + FN))\n",
    "\n",
    "# calculate the specificity\n",
    "conf_specificity = (TN / float(TN + FP))\n",
    "    \n",
    "# calculate precision\n",
    "conf_precision = (TN / float(TN + FP))"
   ]
  },
  {
   "cell_type": "code",
   "execution_count": 69,
   "metadata": {},
   "outputs": [
    {
     "name": "stdout",
     "output_type": "stream",
     "text": [
      "Accuracy: 0.93\n",
      "Sensitivity: 0.15\n",
      "Specificity: 0.99\n",
      "Precision: 0.99\n"
     ]
    }
   ],
   "source": [
    "print(f'Accuracy: {round(conf_accuracy,2)}') \n",
    "print(f'Sensitivity: {round(conf_sensitivity,2)}') \n",
    "print(f'Specificity: {round(conf_specificity,2)}') \n",
    "print(f'Precision: {round(conf_precision,2)}')"
   ]
  },
  {
   "cell_type": "markdown",
   "metadata": {},
   "source": [
    "#### Ploting ROC Curve"
   ]
  },
  {
   "cell_type": "code",
   "execution_count": 70,
   "metadata": {},
   "outputs": [],
   "source": [
    "def draw_roc( actual, probs ):\n",
    "    fpr, tpr, thresholds = metrics.roc_curve( actual, probs,\n",
    "                                              drop_intermediate = False )\n",
    "    auc_score = metrics.roc_auc_score( actual, probs )\n",
    "    plt.figure(figsize=(5, 5))\n",
    "    plt.plot( fpr, tpr, label='ROC curve (area = %0.2f)' % auc_score )\n",
    "    plt.plot([0, 1], [0, 1], 'k--')\n",
    "    plt.xlim([0.0, 1.0])\n",
    "    plt.ylim([0.0, 1.05])\n",
    "    plt.xlabel('False Positive Rate or [1 - True Negative Rate]')\n",
    "    plt.ylabel('True Positive Rate')\n",
    "    plt.title('Receiver operating characteristic example')\n",
    "    plt.legend(loc=\"lower right\")\n",
    "    plt.show()\n",
    "\n",
    "    return None"
   ]
  },
  {
   "cell_type": "code",
   "execution_count": 71,
   "metadata": {},
   "outputs": [],
   "source": [
    "fpr, tpr, thresholds = metrics.roc_curve( y_train_pred_final.Churn, y_train_pred_final.Churn_Prob, drop_intermediate = False )"
   ]
  },
  {
   "cell_type": "code",
   "execution_count": 72,
   "metadata": {
    "scrolled": true
   },
   "outputs": [
    {
     "data": {
      "image/png": "[encoded data removed]",
      "text/plain": [
       "<Figure size 360x360 with 1 Axes>"
      ]
     },
     "metadata": {
      "needs_background": "light"
     },
     "output_type": "display_data"
    }
   ],
   "source": [
    "draw_roc(y_train_pred_final.Churn, y_train_pred_final.Churn_Prob)"
   ]
  },
  {
   "cell_type": "markdown",
   "metadata": {},
   "source": [
    "#### Finding Optimal Cutoff Point"
   ]
  },
  {
   "cell_type": "markdown",
   "metadata": {},
   "source": [
    "Optimal cutoff probability is that prob where we get balanced sensitivity and specificity"
   ]
  },
  {
   "cell_type": "code",
   "execution_count": 73,
   "metadata": {},
   "outputs": [
    {
     "data": {
      "text/html": [
       "<div>\n",
       "<style scoped>\n",
       "    .dataframe tbody tr th:only-of-type {\n",
       "        vertical-align: middle;\n",
       "    }\n",
       "\n",
       "    .dataframe tbody tr th {\n",
       "        vertical-align: top;\n",
       "    }\n",
       "\n",
       "    .dataframe thead th {\n",
       "        text-align: right;\n",
       "    }\n",
       "</style>\n",
       "<table border=\"1\" class=\"dataframe\">\n",
       "  <thead>\n",
       "    <tr style=\"text-align: right;\">\n",
       "      <th></th>\n",
       "      <th>Churn</th>\n",
       "      <th>Churn_Prob</th>\n",
       "      <th>predicted</th>\n",
       "      <th>0.0</th>\n",
       "      <th>0.1</th>\n",
       "      <th>0.2</th>\n",
       "      <th>0.3</th>\n",
       "      <th>0.4</th>\n",
       "      <th>0.5</th>\n",
       "      <th>0.6</th>\n",
       "      <th>0.7</th>\n",
       "      <th>0.8</th>\n",
       "      <th>0.9</th>\n",
       "    </tr>\n",
       "  </thead>\n",
       "  <tbody>\n",
       "    <tr>\n",
       "      <th>0</th>\n",
       "      <td>0</td>\n",
       "      <td>0.076871</td>\n",
       "      <td>0</td>\n",
       "      <td>1</td>\n",
       "      <td>0</td>\n",
       "      <td>0</td>\n",
       "      <td>0</td>\n",
       "      <td>0</td>\n",
       "      <td>0</td>\n",
       "      <td>0</td>\n",
       "      <td>0</td>\n",
       "      <td>0</td>\n",
       "      <td>0</td>\n",
       "    </tr>\n",
       "    <tr>\n",
       "      <th>1</th>\n",
       "      <td>0</td>\n",
       "      <td>0.015109</td>\n",
       "      <td>0</td>\n",
       "      <td>1</td>\n",
       "      <td>0</td>\n",
       "      <td>0</td>\n",
       "      <td>0</td>\n",
       "      <td>0</td>\n",
       "      <td>0</td>\n",
       "      <td>0</td>\n",
       "      <td>0</td>\n",
       "      <td>0</td>\n",
       "      <td>0</td>\n",
       "    </tr>\n",
       "    <tr>\n",
       "      <th>2</th>\n",
       "      <td>1</td>\n",
       "      <td>0.365745</td>\n",
       "      <td>0</td>\n",
       "      <td>1</td>\n",
       "      <td>1</td>\n",
       "      <td>1</td>\n",
       "      <td>1</td>\n",
       "      <td>0</td>\n",
       "      <td>0</td>\n",
       "      <td>0</td>\n",
       "      <td>0</td>\n",
       "      <td>0</td>\n",
       "      <td>0</td>\n",
       "    </tr>\n",
       "    <tr>\n",
       "      <th>3</th>\n",
       "      <td>0</td>\n",
       "      <td>0.072543</td>\n",
       "      <td>0</td>\n",
       "      <td>1</td>\n",
       "      <td>0</td>\n",
       "      <td>0</td>\n",
       "      <td>0</td>\n",
       "      <td>0</td>\n",
       "      <td>0</td>\n",
       "      <td>0</td>\n",
       "      <td>0</td>\n",
       "      <td>0</td>\n",
       "      <td>0</td>\n",
       "    </tr>\n",
       "    <tr>\n",
       "      <th>4</th>\n",
       "      <td>0</td>\n",
       "      <td>0.001133</td>\n",
       "      <td>0</td>\n",
       "      <td>1</td>\n",
       "      <td>0</td>\n",
       "      <td>0</td>\n",
       "      <td>0</td>\n",
       "      <td>0</td>\n",
       "      <td>0</td>\n",
       "      <td>0</td>\n",
       "      <td>0</td>\n",
       "      <td>0</td>\n",
       "      <td>0</td>\n",
       "    </tr>\n",
       "  </tbody>\n",
       "</table>\n",
       "</div>"
      ],
      "text/plain": [
       "  Churn  Churn_Prob  predicted  0.0  0.1  0.2  0.3  0.4  0.5  0.6  0.7  0.8  \\\n",
       "0     0    0.076871          0    1    0    0    0    0    0    0    0    0   \n",
       "1     0    0.015109          0    1    0    0    0    0    0    0    0    0   \n",
       "2     1    0.365745          0    1    1    1    1    0    0    0    0    0   \n",
       "3     0    0.072543          0    1    0    0    0    0    0    0    0    0   \n",
       "4     0    0.001133          0    1    0    0    0    0    0    0    0    0   \n",
       "\n",
       "   0.9  \n",
       "0    0  \n",
       "1    0  \n",
       "2    0  \n",
       "3    0  \n",
       "4    0  "
      ]
     },
     "execution_count": 73,
     "metadata": {},
     "output_type": "execute_result"
    }
   ],
   "source": [
    "# Let's create columns with different probability cutoffs \n",
    "numbers = [float(x)/10 for x in range(10)]\n",
    "for i in numbers:\n",
    "    y_train_pred_final[i]= y_train_pred_final.Churn_Prob.map(lambda x: 1 if x > i else 0)\n",
    "y_train_pred_final.head()"
   ]
  },
  {
   "cell_type": "code",
   "execution_count": 74,
   "metadata": {},
   "outputs": [
    {
     "name": "stdout",
     "output_type": "stream",
     "text": [
      "     prob  accuracy     sensi     speci\n",
      "0.0   0.0  0.081378  1.000000  0.000000\n",
      "0.1   0.1  0.803244  0.797925  0.803716\n",
      "0.2   0.2  0.894844  0.672310  0.914558\n",
      "0.3   0.3  0.926311  0.561988  0.958585\n",
      "0.4   0.4  0.930400  0.320044  0.984469\n",
      "0.5   0.5  0.925911  0.154014  0.994291\n",
      "0.6   0.6  0.921956  0.064992  0.997871\n",
      "0.7   0.7  0.920133  0.025669  0.999371\n",
      "0.8   0.8  0.919333  0.008738  1.000000\n",
      "0.9   0.9  0.918667  0.000546  1.000000\n"
     ]
    }
   ],
   "source": [
    "# Now let's calculate accuracy sensitivity and specificity for various probability cutoffs.\n",
    "cutoff_df = pd.DataFrame( columns = ['prob','accuracy','sensi','speci'])\n",
    "from sklearn.metrics import confusion_matrix\n",
    "\n",
    "# TP = confusion[1,1] # true positive \n",
    "# TN = confusion[0,0] # true negatives\n",
    "# FP = confusion[0,1] # false positives\n",
    "# FN = confusion[1,0] # false negatives\n",
    "\n",
    "num = [0.0,0.1,0.2,0.3,0.4,0.5,0.6,0.7,0.8,0.9]\n",
    "for i in num:\n",
    "    cm1 = metrics.confusion_matrix(y_train_pred_final.Churn, y_train_pred_final[i] )\n",
    "    total1=sum(sum(cm1))\n",
    "    accuracy = (cm1[0,0]+cm1[1,1])/total1\n",
    "    \n",
    "    speci = cm1[0,0]/(cm1[0,0]+cm1[0,1])\n",
    "    sensi = cm1[1,1]/(cm1[1,0]+cm1[1,1])\n",
    "    cutoff_df.loc[i] =[ i ,accuracy,sensi,speci]\n",
    "print(cutoff_df)"
   ]
  },
  {
   "cell_type": "code",
   "execution_count": 75,
   "metadata": {},
   "outputs": [
    {
     "data": {
      "image/png": "[encoded data removed]",
      "text/plain": [
       "<Figure size 432x288 with 1 Axes>"
      ]
     },
     "metadata": {
      "needs_background": "light"
     },
     "output_type": "display_data"
    }
   ],
   "source": [
    "# Let's plot accuracy sensitivity and specificity for various probabilities.\n",
    "cutoff_df.plot.line(x='prob', y=['accuracy','sensi','speci'])\n",
    "plt.show()"
   ]
  },
  {
   "cell_type": "markdown",
   "metadata": {},
   "source": [
    "#### From the curve above, 0.1 is the optimum point to take it as a cutoff probability."
   ]
  },
  {
   "cell_type": "code",
   "execution_count": 76,
   "metadata": {},
   "outputs": [
    {
     "data": {
      "text/html": [
       "<div>\n",
       "<style scoped>\n",
       "    .dataframe tbody tr th:only-of-type {\n",
       "        vertical-align: middle;\n",
       "    }\n",
       "\n",
       "    .dataframe tbody tr th {\n",
       "        vertical-align: top;\n",
       "    }\n",
       "\n",
       "    .dataframe thead th {\n",
       "        text-align: right;\n",
       "    }\n",
       "</style>\n",
       "<table border=\"1\" class=\"dataframe\">\n",
       "  <thead>\n",
       "    <tr style=\"text-align: right;\">\n",
       "      <th></th>\n",
       "      <th>Churn</th>\n",
       "      <th>Churn_Prob</th>\n",
       "      <th>predicted</th>\n",
       "      <th>0.0</th>\n",
       "      <th>0.1</th>\n",
       "      <th>0.2</th>\n",
       "      <th>0.3</th>\n",
       "      <th>0.4</th>\n",
       "      <th>0.5</th>\n",
       "      <th>0.6</th>\n",
       "      <th>0.7</th>\n",
       "      <th>0.8</th>\n",
       "      <th>0.9</th>\n",
       "      <th>final_predicted</th>\n",
       "    </tr>\n",
       "  </thead>\n",
       "  <tbody>\n",
       "    <tr>\n",
       "      <th>0</th>\n",
       "      <td>0</td>\n",
       "      <td>0.076871</td>\n",
       "      <td>0</td>\n",
       "      <td>1</td>\n",
       "      <td>0</td>\n",
       "      <td>0</td>\n",
       "      <td>0</td>\n",
       "      <td>0</td>\n",
       "      <td>0</td>\n",
       "      <td>0</td>\n",
       "      <td>0</td>\n",
       "      <td>0</td>\n",
       "      <td>0</td>\n",
       "      <td>0</td>\n",
       "    </tr>\n",
       "    <tr>\n",
       "      <th>1</th>\n",
       "      <td>0</td>\n",
       "      <td>0.015109</td>\n",
       "      <td>0</td>\n",
       "      <td>1</td>\n",
       "      <td>0</td>\n",
       "      <td>0</td>\n",
       "      <td>0</td>\n",
       "      <td>0</td>\n",
       "      <td>0</td>\n",
       "      <td>0</td>\n",
       "      <td>0</td>\n",
       "      <td>0</td>\n",
       "      <td>0</td>\n",
       "      <td>0</td>\n",
       "    </tr>\n",
       "    <tr>\n",
       "      <th>2</th>\n",
       "      <td>1</td>\n",
       "      <td>0.365745</td>\n",
       "      <td>0</td>\n",
       "      <td>1</td>\n",
       "      <td>1</td>\n",
       "      <td>1</td>\n",
       "      <td>1</td>\n",
       "      <td>0</td>\n",
       "      <td>0</td>\n",
       "      <td>0</td>\n",
       "      <td>0</td>\n",
       "      <td>0</td>\n",
       "      <td>0</td>\n",
       "      <td>1</td>\n",
       "    </tr>\n",
       "    <tr>\n",
       "      <th>3</th>\n",
       "      <td>0</td>\n",
       "      <td>0.072543</td>\n",
       "      <td>0</td>\n",
       "      <td>1</td>\n",
       "      <td>0</td>\n",
       "      <td>0</td>\n",
       "      <td>0</td>\n",
       "      <td>0</td>\n",
       "      <td>0</td>\n",
       "      <td>0</td>\n",
       "      <td>0</td>\n",
       "      <td>0</td>\n",
       "      <td>0</td>\n",
       "      <td>0</td>\n",
       "    </tr>\n",
       "    <tr>\n",
       "      <th>4</th>\n",
       "      <td>0</td>\n",
       "      <td>0.001133</td>\n",
       "      <td>0</td>\n",
       "      <td>1</td>\n",
       "      <td>0</td>\n",
       "      <td>0</td>\n",
       "      <td>0</td>\n",
       "      <td>0</td>\n",
       "      <td>0</td>\n",
       "      <td>0</td>\n",
       "      <td>0</td>\n",
       "      <td>0</td>\n",
       "      <td>0</td>\n",
       "      <td>0</td>\n",
       "    </tr>\n",
       "  </tbody>\n",
       "</table>\n",
       "</div>"
      ],
      "text/plain": [
       "  Churn  Churn_Prob  predicted  0.0  0.1  0.2  0.3  0.4  0.5  0.6  0.7  0.8  \\\n",
       "0     0    0.076871          0    1    0    0    0    0    0    0    0    0   \n",
       "1     0    0.015109          0    1    0    0    0    0    0    0    0    0   \n",
       "2     1    0.365745          0    1    1    1    1    0    0    0    0    0   \n",
       "3     0    0.072543          0    1    0    0    0    0    0    0    0    0   \n",
       "4     0    0.001133          0    1    0    0    0    0    0    0    0    0   \n",
       "\n",
       "   0.9  final_predicted  \n",
       "0    0                0  \n",
       "1    0                0  \n",
       "2    0                1  \n",
       "3    0                0  \n",
       "4    0                0  "
      ]
     },
     "execution_count": 76,
     "metadata": {},
     "output_type": "execute_result"
    }
   ],
   "source": [
    "y_train_pred_final['final_predicted'] = y_train_pred_final.Churn_Prob.map( lambda x: 1 if x > 0.1 else 0)\n",
    "\n",
    "y_train_pred_final.head()"
   ]
  },
  {
   "cell_type": "code",
   "execution_count": 77,
   "metadata": {},
   "outputs": [
    {
     "data": {
      "text/plain": [
       "array([[16612,  4057],\n",
       "       [  370,  1461]], dtype=int64)"
      ]
     },
     "execution_count": 77,
     "metadata": {},
     "output_type": "execute_result"
    }
   ],
   "source": [
    "confusion2 = metrics.confusion_matrix(y_train_pred_final.Churn, y_train_pred_final.final_predicted )\n",
    "confusion2"
   ]
  },
  {
   "cell_type": "code",
   "execution_count": 78,
   "metadata": {},
   "outputs": [],
   "source": [
    "TP = confusion2[1,1] # true positive \n",
    "TN = confusion2[0,0] # true negatives\n",
    "FP = confusion2[0,1] # false positives\n",
    "FN = confusion2[1,0] # false negatives"
   ]
  },
  {
   "cell_type": "code",
   "execution_count": 79,
   "metadata": {},
   "outputs": [],
   "source": [
    "# calculate accuracy\n",
    "conf_accuracy = (float (TP+TN) / float(TP + TN + FP + FN))\n",
    "    \n",
    "# calculate the sensitivity\n",
    "conf_sensitivity = (TP / float(TP + FN))\n",
    "\n",
    "# calculate the specificity\n",
    "conf_specificity = (TN / float(TN + FP))\n",
    "    \n",
    "# calculate precision\n",
    "conf_precision = (TN / float(TN + FP))"
   ]
  },
  {
   "cell_type": "code",
   "execution_count": 80,
   "metadata": {},
   "outputs": [
    {
     "name": "stdout",
     "output_type": "stream",
     "text": [
      "Accuracy: 0.8\n",
      "Sensitivity: 0.8\n",
      "Specificity: 0.8\n",
      "Precision: 0.8\n"
     ]
    }
   ],
   "source": [
    "print(f'Accuracy: {round(conf_accuracy,2)}') \n",
    "print(f'Sensitivity: {round(conf_sensitivity,2)}') \n",
    "print(f'Specificity: {round(conf_specificity,2)}') \n",
    "print(f'Precision: {round(conf_precision,2)}')"
   ]
  },
  {
   "cell_type": "markdown",
   "metadata": {},
   "source": [
    "### Subtask 4.2 : Decision Tree"
   ]
  },
  {
   "cell_type": "code",
   "execution_count": 81,
   "metadata": {},
   "outputs": [],
   "source": [
    "from sklearn.tree import DecisionTreeClassifier\n",
    "\n",
    "# Importing required packages for visualization\n",
    "from IPython.display import Image  \n",
    "#from sklearn.externals.six import StringIO  \n",
    "from six import StringIO\n",
    "from sklearn.tree import export_graphviz\n",
    "import pydotplus, graphviz"
   ]
  },
  {
   "cell_type": "code",
   "execution_count": 82,
   "metadata": {},
   "outputs": [
    {
     "data": {
      "text/plain": [
       "DecisionTreeClassifier(max_depth=5)"
      ]
     },
     "execution_count": 82,
     "metadata": {},
     "output_type": "execute_result"
    }
   ],
   "source": [
    "dt = DecisionTreeClassifier(max_depth=5)\n",
    "dt.fit(X_train, y_train)"
   ]
  },
  {
   "cell_type": "code",
   "execution_count": 87,
   "metadata": {},
   "outputs": [
    {
     "ename": "InvocationException",
     "evalue": "GraphViz's executables not found",
     "output_type": "error",
     "traceback": [
      "\u001b[1;31m---------------------------------------------------------------------------\u001b[0m",
      "\u001b[1;31mInvocationException\u001b[0m                       Traceback (most recent call last)",
      "\u001b[1;32m<ipython-input-87-aff842f003a6>\u001b[0m in \u001b[0;36m<module>\u001b[1;34m\u001b[0m\n\u001b[0;32m      7\u001b[0m \u001b[1;33m\u001b[0m\u001b[0m\n\u001b[0;32m      8\u001b[0m \u001b[0mgraph\u001b[0m \u001b[1;33m=\u001b[0m \u001b[0mpydotplus\u001b[0m\u001b[1;33m.\u001b[0m\u001b[0mgraph_from_dot_data\u001b[0m\u001b[1;33m(\u001b[0m\u001b[0mdot_data\u001b[0m\u001b[1;33m.\u001b[0m\u001b[0mgetvalue\u001b[0m\u001b[1;33m(\u001b[0m\u001b[1;33m)\u001b[0m\u001b[1;33m)\u001b[0m\u001b[1;33m\u001b[0m\u001b[1;33m\u001b[0m\u001b[0m\n\u001b[1;32m----> 9\u001b[1;33m \u001b[0mImage\u001b[0m\u001b[1;33m(\u001b[0m\u001b[0mgraph\u001b[0m\u001b[1;33m.\u001b[0m\u001b[0mcreate_png\u001b[0m\u001b[1;33m(\u001b[0m\u001b[1;33m)\u001b[0m\u001b[1;33m)\u001b[0m\u001b[1;33m\u001b[0m\u001b[1;33m\u001b[0m\u001b[0m\n\u001b[0m",
      "\u001b[1;32m~\\anaconda3\\lib\\site-packages\\pydotplus\\graphviz.py\u001b[0m in \u001b[0;36m<lambda>\u001b[1;34m(f, prog)\u001b[0m\n\u001b[0;32m   1795\u001b[0m             self.__setattr__(\n\u001b[0;32m   1796\u001b[0m                 \u001b[1;34m'create_'\u001b[0m \u001b[1;33m+\u001b[0m \u001b[0mfrmt\u001b[0m\u001b[1;33m,\u001b[0m\u001b[1;33m\u001b[0m\u001b[1;33m\u001b[0m\u001b[0m\n\u001b[1;32m-> 1797\u001b[1;33m                 \u001b[1;32mlambda\u001b[0m \u001b[0mf\u001b[0m\u001b[1;33m=\u001b[0m\u001b[0mfrmt\u001b[0m\u001b[1;33m,\u001b[0m \u001b[0mprog\u001b[0m\u001b[1;33m=\u001b[0m\u001b[0mself\u001b[0m\u001b[1;33m.\u001b[0m\u001b[0mprog\u001b[0m\u001b[1;33m:\u001b[0m \u001b[0mself\u001b[0m\u001b[1;33m.\u001b[0m\u001b[0mcreate\u001b[0m\u001b[1;33m(\u001b[0m\u001b[0mformat\u001b[0m\u001b[1;33m=\u001b[0m\u001b[0mf\u001b[0m\u001b[1;33m,\u001b[0m \u001b[0mprog\u001b[0m\u001b[1;33m=\u001b[0m\u001b[0mprog\u001b[0m\u001b[1;33m)\u001b[0m\u001b[1;33m\u001b[0m\u001b[1;33m\u001b[0m\u001b[0m\n\u001b[0m\u001b[0;32m   1798\u001b[0m             )\n\u001b[0;32m   1799\u001b[0m             \u001b[0mf\u001b[0m \u001b[1;33m=\u001b[0m \u001b[0mself\u001b[0m\u001b[1;33m.\u001b[0m\u001b[0m__dict__\u001b[0m\u001b[1;33m[\u001b[0m\u001b[1;34m'create_'\u001b[0m \u001b[1;33m+\u001b[0m \u001b[0mfrmt\u001b[0m\u001b[1;33m]\u001b[0m\u001b[1;33m\u001b[0m\u001b[1;33m\u001b[0m\u001b[0m\n",
      "\u001b[1;32m~\\anaconda3\\lib\\site-packages\\pydotplus\\graphviz.py\u001b[0m in \u001b[0;36mcreate\u001b[1;34m(self, prog, format)\u001b[0m\n\u001b[0;32m   1957\u001b[0m             \u001b[0mself\u001b[0m\u001b[1;33m.\u001b[0m\u001b[0mprogs\u001b[0m \u001b[1;33m=\u001b[0m \u001b[0mfind_graphviz\u001b[0m\u001b[1;33m(\u001b[0m\u001b[1;33m)\u001b[0m\u001b[1;33m\u001b[0m\u001b[1;33m\u001b[0m\u001b[0m\n\u001b[0;32m   1958\u001b[0m             \u001b[1;32mif\u001b[0m \u001b[0mself\u001b[0m\u001b[1;33m.\u001b[0m\u001b[0mprogs\u001b[0m \u001b[1;32mis\u001b[0m \u001b[1;32mNone\u001b[0m\u001b[1;33m:\u001b[0m\u001b[1;33m\u001b[0m\u001b[1;33m\u001b[0m\u001b[0m\n\u001b[1;32m-> 1959\u001b[1;33m                 raise InvocationException(\n\u001b[0m\u001b[0;32m   1960\u001b[0m                     'GraphViz\\'s executables not found')\n\u001b[0;32m   1961\u001b[0m \u001b[1;33m\u001b[0m\u001b[0m\n",
      "\u001b[1;31mInvocationException\u001b[0m: GraphViz's executables not found"
     ]
    }
   ],
   "source": [
    "# plotting tree with max_depth=5\n",
    "dot_data = StringIO()  \n",
    "\n",
    "export_graphviz(dt, out_file=dot_data, filled=True, rounded=True,\n",
    "                feature_names=X.columns, \n",
    "                class_names=['Not Churned', \"Churned\"])\n",
    "\n",
    "graph = pydotplus.graph_from_dot_data(dot_data.getvalue())\n",
    "Image(graph.create_png())"
   ]
  },
  {
   "cell_type": "code",
   "execution_count": 88,
   "metadata": {},
   "outputs": [],
   "source": [
    "y_train_pred = dt.predict(X_train)\n",
    "y_test_pred = dt.predict(X_test)"
   ]
  },
  {
   "cell_type": "code",
   "execution_count": 89,
   "metadata": {},
   "outputs": [],
   "source": [
    "from sklearn.metrics import confusion_matrix, accuracy_score"
   ]
  },
  {
   "cell_type": "code",
   "execution_count": 90,
   "metadata": {},
   "outputs": [],
   "source": [
    "con = confusion_matrix(y_train, y_train_pred)"
   ]
  },
  {
   "cell_type": "code",
   "execution_count": 91,
   "metadata": {},
   "outputs": [],
   "source": [
    "TP = con[1][1]\n",
    "TN = con[0][0]\n",
    "FP = con[0][1]\n",
    "FN = con[1][0]"
   ]
  },
  {
   "cell_type": "code",
   "execution_count": 92,
   "metadata": {},
   "outputs": [],
   "source": [
    "# calculate accuracy\n",
    "conf_accuracy = (float (TP+TN) / float(TP + TN + FP + FN))\n",
    "    \n",
    "# calculate the sensitivity\n",
    "conf_sensitivity = (TP / float(TP + FN))\n",
    "\n",
    "# calculate the specificity\n",
    "conf_specificity = (TN / float(TN + FP))\n",
    "    \n",
    "# calculate precision\n",
    "conf_precision = (TN / float(TN + FP))"
   ]
  },
  {
   "cell_type": "code",
   "execution_count": 94,
   "metadata": {},
   "outputs": [
    {
     "name": "stdout",
     "output_type": "stream",
     "text": [
      "Accuracy: 0.95\n",
      "Sensitivity: 0.55\n",
      "Specificity: 0.98\n",
      "Precision: 0.98\n"
     ]
    }
   ],
   "source": [
    "print(f'Accuracy: {round(conf_accuracy,2)}') \n",
    "print(f'Sensitivity: {round(conf_sensitivity,2)}') \n",
    "print(f'Specificity: {round(conf_specificity,2)}') \n",
    "print(f'Precision: {round(conf_precision,2)}')"
   ]
  },
  {
   "cell_type": "markdown",
   "metadata": {},
   "source": [
    "### Subtask 4.3 : Random Forest Classification"
   ]
  },
  {
   "cell_type": "code",
   "execution_count": 95,
   "metadata": {},
   "outputs": [],
   "source": [
    "from sklearn.ensemble import RandomForestClassifier\n",
    "from sklearn.ensemble import GradientBoostingClassifier\n",
    "from sklearn.model_selection import StratifiedKFold\n",
    "from sklearn.model_selection import GridSearchCV\n",
    "from sklearn.metrics import confusion_matrix"
   ]
  },
  {
   "cell_type": "code",
   "execution_count": 96,
   "metadata": {},
   "outputs": [],
   "source": [
    "# random forest - the class weight is used to handle class imbalance - it adjusts the cost function\n",
    "forest = RandomForestClassifier(class_weight={0:0.1, 1: 0.9}, n_jobs = -1)\n",
    "\n",
    "# hyperparameter space\n",
    "params = {\"criterion\": ['gini', 'entropy'], \"max_features\": ['auto', 0.4]}\n",
    "\n",
    "# create 5 folds\n",
    "folds = StratifiedKFold(n_splits = 5, shuffle = True, random_state = 4)\n",
    "\n",
    "# create gridsearch object\n",
    "model = GridSearchCV(estimator=forest, cv=folds, param_grid=params, scoring='roc_auc', n_jobs=-1, verbose=1)"
   ]
  },
  {
   "cell_type": "code",
   "execution_count": 97,
   "metadata": {},
   "outputs": [
    {
     "name": "stdout",
     "output_type": "stream",
     "text": [
      "Fitting 5 folds for each of 4 candidates, totalling 20 fits\n"
     ]
    },
    {
     "name": "stderr",
     "output_type": "stream",
     "text": [
      "[Parallel(n_jobs=-1)]: Using backend LokyBackend with 4 concurrent workers.\n",
      "[Parallel(n_jobs=-1)]: Done  20 out of  20 | elapsed:  8.6min finished\n"
     ]
    },
    {
     "data": {
      "text/plain": [
       "GridSearchCV(cv=StratifiedKFold(n_splits=5, random_state=4, shuffle=True),\n",
       "             estimator=RandomForestClassifier(class_weight={0: 0.1, 1: 0.9},\n",
       "                                              n_jobs=-1),\n",
       "             n_jobs=-1,\n",
       "             param_grid={'criterion': ['gini', 'entropy'],\n",
       "                         'max_features': ['auto', 0.4]},\n",
       "             scoring='roc_auc', verbose=1)"
      ]
     },
     "execution_count": 97,
     "metadata": {},
     "output_type": "execute_result"
    }
   ],
   "source": [
    "# fit model\n",
    "model.fit(X_train, y_train)"
   ]
  },
  {
   "cell_type": "code",
   "execution_count": 98,
   "metadata": {},
   "outputs": [
    {
     "name": "stdout",
     "output_type": "stream",
     "text": [
      "Best AUC:  0.9281445435575044\n",
      "Best hyperparameters:  {'criterion': 'entropy', 'max_features': 0.4}\n"
     ]
    }
   ],
   "source": [
    "# print best hyperparameters\n",
    "print(\"Best AUC: \", model.best_score_)\n",
    "print(\"Best hyperparameters: \", model.best_params_)"
   ]
  },
  {
   "cell_type": "code",
   "execution_count": 99,
   "metadata": {},
   "outputs": [
    {
     "name": "stdout",
     "output_type": "stream",
     "text": [
      "[[6776  115]\n",
      " [ 305  305]]\n"
     ]
    }
   ],
   "source": [
    "# predict churn on test data\n",
    "y_pred = model.predict(X_test)\n",
    "\n",
    "# create onfusion matrix\n",
    "cm = confusion_matrix(y_test, y_pred)\n",
    "print(cm)\n"
   ]
  },
  {
   "cell_type": "code",
   "execution_count": 100,
   "metadata": {},
   "outputs": [],
   "source": [
    "TP = cm[1][1]\n",
    "TN = cm[0][0]\n",
    "FP = cm[0][1]\n",
    "FN = cm[1][0]"
   ]
  },
  {
   "cell_type": "code",
   "execution_count": 101,
   "metadata": {},
   "outputs": [],
   "source": [
    "# calculate accuracy\n",
    "conf_accuracy = (float (TP+TN) / float(TP + TN + FP + FN))\n",
    "    \n",
    "# calculate the sensitivity\n",
    "conf_sensitivity = (TP / float(TP + FN))\n",
    "\n",
    "# calculate the specificity\n",
    "conf_specificity = (TN / float(TN + FP))\n",
    "    \n",
    "# calculate precision\n",
    "conf_precision = (TN / float(TN + FP))"
   ]
  },
  {
   "cell_type": "code",
   "execution_count": 102,
   "metadata": {},
   "outputs": [
    {
     "name": "stdout",
     "output_type": "stream",
     "text": [
      "Accuracy: 0.94\n",
      "Sensitivity: 0.5\n",
      "Specificity: 0.98\n",
      "Precision: 0.98\n"
     ]
    }
   ],
   "source": [
    "print(f'Accuracy: {round(conf_accuracy,2)}') \n",
    "print(f'Sensitivity: {round(conf_sensitivity,2)}') \n",
    "print(f'Specificity: {round(conf_specificity,2)}') \n",
    "print(f'Precision: {round(conf_precision,2)}')"
   ]
  },
  {
   "cell_type": "code",
   "execution_count": null,
   "metadata": {},
   "outputs": [],
   "source": []
  },
  {
   "cell_type": "code",
   "execution_count": null,
   "metadata": {},
   "outputs": [],
   "source": []
  },
  {
   "cell_type": "code",
   "execution_count": null,
   "metadata": {},
   "outputs": [],
   "source": []
  },
  {
   "cell_type": "code",
   "execution_count": null,
   "metadata": {},
   "outputs": [],
   "source": []
  },
  {
   "cell_type": "code",
   "execution_count": null,
   "metadata": {},
   "outputs": [],
   "source": []
  },
  {
   "cell_type": "code",
   "execution_count": null,
   "metadata": {},
   "outputs": [],
   "source": []
  }
 ],
 "metadata": {
  "kernelspec": {
   "display_name": "Python 3",
   "language": "python",
   "name": "python3"
  },
  "language_info": {
   "codemirror_mode": {
    "name": "ipython",
    "version": 3
   },
   "file_extension": ".py",
   "mimetype": "text/x-python",
   "name": "python",
   "nbconvert_exporter": "python",
   "pygments_lexer": "ipython3",
   "version": "3.8.3"
  }
 },
 "nbformat": 4,
 "nbformat_minor": 4
}
